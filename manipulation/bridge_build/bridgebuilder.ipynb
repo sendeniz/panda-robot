{
 "cells": [
  {
   "cell_type": "code",
   "execution_count": 37,
   "metadata": {},
   "outputs": [],
   "source": [
    "import robotic as ry\n",
    "import numpy as np\n",
    "import random\n",
    "import time\n",
    "from bridgebuild_env import create_n_boxes\n",
    "# this import the local manipulation.py .. to be integrated in robotic..\n",
    "import manipulation as manip"
   ]
  },
  {
   "cell_type": "markdown",
   "metadata": {},
   "source": [
    "### Task Env: Bridge Builder"
   ]
  },
  {
   "cell_type": "code",
   "execution_count": 38,
   "metadata": {},
   "outputs": [
    {
     "data": {
      "text/plain": [
       "0"
      ]
     },
     "execution_count": 38,
     "metadata": {},
     "output_type": "execute_result"
    }
   ],
   "source": [
    "C = ry.Config()\n",
    "C.addFile(ry.raiPath('scenarios/pandaSingle.g'))\n",
    "n_boxes = 3\n",
    "keep_dist_between = [\"box1\", \"box2\", \"box3\"]\n",
    "C = create_n_boxes(C = C, N = n_boxes, position = 'fixed')\n",
    "\n",
    "# remove so collision with wrist camera is ignored\n",
    "C.delFrame(\"panda_collCameraWrist\")\n",
    "\n",
    "# for convenience, a few definitions:\n",
    "qHome = C.getJointState()\n",
    "gripper = \"l_gripper\";\n",
    "palm = \"l_palm\";\n",
    "box1 = \"box1\";\n",
    "box2 = \"box2\";\n",
    "box3 = \"box3\";\n",
    "table = \"table\";\n",
    "boxSize = C.frame(box1).getSize()\n",
    "\n",
    "C.view()"
   ]
  },
  {
   "cell_type": "code",
   "execution_count": 39,
   "metadata": {},
   "outputs": [
    {
     "name": "stdout",
     "output_type": "stream",
     "text": [
      "=== placement 0: grasp x place z\n",
      "place direction: z\n",
      "  -- feasible:placement 0: grasp x place z\n",
      "     { time: 0.013718, evals: 30, done: 1, feasible: 1, sos: 0.0838231, f: 0, ineq: 3.26369e-06, eq: 0.0273005 }\n",
      "  -- feasible:sub_motion_0--placement 0: grasp x place z\n",
      "     { time: 0.056498, evals: 33, done: 1, feasible: 1, sos: 2.89379, f: 0, ineq: 0, eq: 0.475814 }\n",
      "  -- feasible:sub_motion_1--placement 0: grasp x place z\n",
      "     { time: 0.068866, evals: 39, done: 1, feasible: 1, sos: 0.318505, f: 0, ineq: 0.000509541, eq: 0.323601 }\n",
      "=== placement 1: grasp x place z\n",
      "place direction: z\n",
      "  -- feasible:placement 1: grasp x place z\n",
      "     { time: 0.045109, evals: 66, done: 1, feasible: 1, sos: 0.0965918, f: 0, ineq: 0.205307, eq: 0.455776 }\n",
      "  -- feasible:sub_motion_0--placement 1: grasp x place z\n",
      "     { time: 0.029183, evals: 19, done: 1, feasible: 1, sos: 2.051, f: 0, ineq: 6.61768e-07, eq: 0.318815 }\n",
      "  -- feasible:sub_motion_1--placement 1: grasp x place z\n",
      "     { time: 0.355785, evals: 201, done: 1, feasible: 1, sos: 0.57351, f: 0, ineq: 0.00373528, eq: 0.246148 }\n",
      "=== placement 2: grasp x place z\n",
      "place direction: z\n",
      "  -- feasible:placement 2: grasp x place z\n",
      "     { time: 0.018457, evals: 20, done: 1, feasible: 1, sos: 0.183118, f: 0, ineq: 6.75394e-06, eq: 0.00555475 }\n",
      "  -- feasible:sub_motion_0--placement 2: grasp x place z\n",
      "     { time: 0.107351, evals: 58, done: 1, feasible: 1, sos: 4.55527, f: 0, ineq: 0, eq: 0.168117 }\n",
      "  -- feasible:sub_motion_1--placement 2: grasp x place z\n",
      "     { time: 0.141977, evals: 72, done: 1, feasible: 1, sos: 1.31351, f: 0, ineq: 0, eq: 0.000360595 }\n"
     ]
    }
   ],
   "source": [
    "C.setJointState(qHome)\n",
    "C.view_raise()\n",
    "boxes_pos = [C.frame(box1).getPosition(), C.frame(box2).getPosition(), C.frame(box3).getPosition()]\n",
    "boxes = [box1, box2, box3]\n",
    "last_box_memory = []\n",
    "for l in range(3):\n",
    "        box = np.random.choice(boxes)\n",
    "        qStart = C.getJointState()\n",
    "        graspDirection = 'x' #random.choice(['y', 'z']) #'x' not possible: box too large\n",
    "        placeDirection = 'z' #random.choice(['x', 'y', 'z', 'xNeg', 'yNeg', 'zNeg'])\n",
    "        info = f'placement {l}: grasp {graspDirection} place {placeDirection}'\n",
    "        print('===', info)\n",
    "\n",
    "        M = manip.ManipulationModelling(C, info, helpers=[gripper])\n",
    "        M.setup_pick_and_place_waypoints(gripper, box, homing_scale=1e-1, accumulated_collisions=True)\n",
    "        M.grasp_box(1., gripper, box, palm, graspDirection)\n",
    "        print('place direction:', placeDirection)\n",
    "\n",
    "        if l > 1:\n",
    "\n",
    "            offset_xyz = [0.0, 0.0, 0.00]\n",
    "            poses_from_memory = np.vstack( (C.getFrame(last_box_memory[-2]).getPosition(), C.getFrame(last_box_memory[-1]).getPosition()) )\n",
    "            middle_between_towers = np.mean(poses_from_memory, 0) + offset_xyz\n",
    "\n",
    "            dir_vec = C.getFrame(last_box_memory[-2]).getPosition() - C.getFrame(last_box_memory[-1]).getPosition()\n",
    "            pos2 = C.getFrame(last_box_memory[-2]).getPosition()\n",
    "            pos1 = C.getFrame(last_box_memory[-1]).getPosition()\n",
    "            rel_pos =  (pos1 + pos2) / 2 + np.array([0, 0, 0.08])\n",
    "            \n",
    "            dir_vec /= np.linalg.norm(dir_vec)\n",
    "\n",
    "            M.komo.addObjective([2.], ry.FS.position, [box], ry.OT.eq, [1e3], rel_pos)\n",
    "            M.komo.addObjective([2.], ry.FS.vectorZ, [box], ry.OT.eq, [1e1], dir_vec)\n",
    "            M.komo.addObjective([2.], ry.FS.vectorZ, [gripper], ry.OT.eq, [1e1], [0, 0, 1])\n",
    "\n",
    "\n",
    "            \n",
    "        if l == 1:\n",
    "            M.place_box(2., box, table, palm, placeDirection)\n",
    "\n",
    "            M.komo.addObjective([2.], ry.FS.negDistance, [box, last_box_memory[-1]], ry.OT.eq, [1e1], [-.04])\n",
    "            M.komo.addObjective([2.], ry.FS.scalarProductXY, [box, last_box_memory[-1]], ry.OT.eq, [1e1], [0])\n",
    "            M.komo.addObjective([2.], ry.FS.positionRel, [box, last_box_memory[-1]], ry.OT.eq, [1.], [.0, .0, .1])\n",
    "            M.auto_pairwise_keep_dist_([], keep_dist_between, margin = 0.08)\n",
    "\n",
    "        M.no_collision([], palm, table)\n",
    "        # keep distance between boxes when placed defined by margin\n",
    "        # x, y, z, smooth - table size: array([2.5 , 2.5 , 0.1 , 0.02])\n",
    "        # place inital block as chosen by np.random.choice at a random location\n",
    "        if l == 0:\n",
    "            M.place_box(2., box, table, palm, placeDirection)\n",
    "\n",
    "            M.target_relative_xy_position(2., box, table, [np.random.uniform(0.0, 0.3), np.random.uniform(0.0, 0.3)])\n",
    "            M.auto_pairwise_keep_dist_([], keep_dist_between, margin = 0.08)\n",
    "\n",
    "\n",
    "        ways = M.solve()\n",
    "\n",
    "        if not M.feasible:\n",
    "            continue\n",
    "\n",
    "        M2 = M.sub_motion(0)\n",
    "        # M = manip.ManipulationModelling(C, info, helpers=[gripper])\n",
    "        # M.setup_point_to_point_motion(qStart, ways[0])\n",
    "        M2.no_collision([.3,.7], palm, box)\n",
    "        \n",
    "        M2.retract([.0, .2], gripper, dist = .13)\n",
    "        M2.approach([.8, 1.], gripper)\n",
    "        M2.solve()\n",
    "        if not M2.feasible:\n",
    "            continue\n",
    "\n",
    "        M3 = M.sub_motion(1)\n",
    "        #manip.ManipulationModelling(C, info)\n",
    "        # M.setup_point_to_point_motion(ways[0], ways[1])\n",
    "        M3.no_collision([], table, box)\n",
    "\n",
    "        M3.solve()\n",
    "        if not M3.ret.feasible:\n",
    "            continue\n",
    "\n",
    "        M2.play(C)\n",
    "        C.attach(gripper, box)\n",
    "        M3.play(C)\n",
    "        C.attach(table, box)\n",
    "        # update memory\n",
    "        last_box_memory.append(box)\n",
    "        # remove box that was previously used\n",
    "        boxes.remove(box)\n",
    "        # update positions\n",
    "        boxes_pos = [C.frame(box1).getPosition(), C.frame(box2).getPosition(), C.frame(box3).getPosition()]\n",
    "\n",
    "\n",
    "del M"
   ]
  }
 ],
 "metadata": {
  "kernelspec": {
   "display_name": "Python 3",
   "language": "python",
   "name": "python3"
  },
  "language_info": {
   "codemirror_mode": {
    "name": "ipython",
    "version": 3
   },
   "file_extension": ".py",
   "mimetype": "text/x-python",
   "name": "python",
   "nbconvert_exporter": "python",
   "pygments_lexer": "ipython3",
   "version": "3.8.10"
  }
 },
 "nbformat": 4,
 "nbformat_minor": 2
}
