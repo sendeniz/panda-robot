{
 "cells": [
  {
   "cell_type": "markdown",
   "metadata": {},
   "source": [
    "### Libaries"
   ]
  },
  {
   "cell_type": "code",
   "execution_count": 1,
   "metadata": {},
   "outputs": [
    {
     "name": "stdout",
     "output_type": "stream",
     "text": [
      "version: 0.1.3 compile time: Dec 15 2023 11:21:37\n"
     ]
    }
   ],
   "source": [
    "import robotic as ry\n",
    "import numpy as np\n",
    "import time\n",
    "from scipy.interpolate import Rbf\n",
    "from scipy.interpolate import CubicSpline\n",
    "print('version:', ry.__version__, ry.compiled())"
   ]
  },
  {
   "cell_type": "markdown",
   "metadata": {},
   "source": [
    "### Initalise configuration"
   ]
  },
  {
   "cell_type": "code",
   "execution_count": 2,
   "metadata": {},
   "outputs": [
    {
     "data": {
      "text/plain": [
       "0"
      ]
     },
     "execution_count": 2,
     "metadata": {},
     "output_type": "execute_result"
    }
   ],
   "source": [
    "C = ry.Config()\n",
    "C.addFile(ry.raiPath('scenarios/pandaSingle.g'))\n",
    "C.view()"
   ]
  },
  {
   "cell_type": "markdown",
   "metadata": {},
   "source": [
    "### Define color map"
   ]
  },
  {
   "cell_type": "code",
   "execution_count": 3,
   "metadata": {},
   "outputs": [],
   "source": [
    "color_map = [[1,0,.5], # pink\n",
    "             [0.5,1,0], # lime green\n",
    "             [.5,1,1], # light turqois\n",
    "             [0.5,0,1], # violet\n",
    "             [1,0,0], # red\n",
    "             [0,1,0], # green\n",
    "             [0,0,1], # blue\n",
    "             [1,.5,0], # orange\n",
    "             [1,1,.5], # lime yellow\n",
    "             [1,.5,1], # light pink                            \n",
    "]"
   ]
  },
  {
   "cell_type": "markdown",
   "metadata": {},
   "source": [
    "### Gripper functions"
   ]
  },
  {
   "cell_type": "code",
   "execution_count": 4,
   "metadata": {},
   "outputs": [],
   "source": [
    "def gripper_open(C, bot, widht = 0.75, speed = 0.2):\n",
    "    bot.gripperMove(ry._left, widht, speed)\n",
    "\n",
    "    while not bot.gripperDone(ry._left):\n",
    "        bot.sync(C, .1)\n",
    "\n",
    "def gripper_close(bot, widht = 0.01, speed = 0.2):\n",
    "    bot.gripperMove(ry._left, widht, speed)\n",
    "\n",
    "    while not bot.gripperDone(ry._left):\n",
    "        bot.sync(C, .1)\n",
    "\n",
    "def gripper_close_grasp(bot, target_obj = '', force=5.00, widht = 0.01, speed = 0.2):\n",
    "    bot.gripperCloseGrasp(ry._left, target_obj, force, widht, speed)\n",
    "    while not bot.gripperDone(ry._left):\n",
    "        bot.sync(C, .1)\n",
    "    "
   ]
  },
  {
   "cell_type": "markdown",
   "metadata": {},
   "source": [
    "### Create N number of building cuboids"
   ]
  },
  {
   "cell_type": "code",
   "execution_count": 5,
   "metadata": {},
   "outputs": [],
   "source": [
    "def create_n_boxes(C, N, position='fixed'):\n",
    "\n",
    "    for i in range(N):\n",
    "        box_name = 'box{}'.format(i + 1)\n",
    "\n",
    "        if position == 'fixed':\n",
    "            position_val1 = 0.1 * (i - 1)\n",
    "            C.addFrame(box_name) \\\n",
    "                .setPosition([position_val1, 0.35, 0.70]) \\\n",
    "                .setShape(ry.ST.ssBox, size=[0.05, 0.05, 0.10, 0.005]) \\\n",
    "                .setColor(color_map[i % len(color_map)]) \\\n",
    "                .setContact(True) \\\n",
    "                .setMass(1e-2)\n",
    "\n",
    "\n",
    "        elif position == 'random':\n",
    "            C.addFrame(box_name) \\\n",
    "                .setPosition([np.random.uniform(-0.5, 0.5), np.random.uniform(-0.5, 0.5), 0.70]) \\\n",
    "                .setShape(ry.ST.ssBox, size=[0.05, 0.05, 0.10, 0.005]) \\\n",
    "                .setColor(color_map[i % len(color_map)]) \\\n",
    "                .setContact(True) \\\n",
    "                .setMass(1e-2)\n",
    "    \n",
    "    return C"
   ]
  },
  {
   "cell_type": "markdown",
   "metadata": {},
   "source": [
    "### Define construction site"
   ]
  },
  {
   "cell_type": "code",
   "execution_count": 6,
   "metadata": {},
   "outputs": [],
   "source": [
    "def create_construction_site(C, position = 'fixed'):\n",
    "    \n",
    "    if position == 'fixed':\n",
    "        target_location = C.addFrame('construction_site', 'table')\n",
    "        target_location.setShape(ry.ST.box, size = [.275, .275, .090])\n",
    "        target_location.setRelativePosition([-.5, -.225, .0])\n",
    "        target_location.setColor([1., 0.75, 0.])\n",
    "        return target_location\n",
    "    \n",
    "    elif position == 'random':\n",
    "        target_location = C.addFrame('construction_site', 'table')\n",
    "        target_location.setShape(ry.ST.box, size = [.3, .3, .1])\n",
    "        target_location.setRelativePosition([np.random.uniform(-0.5, 0.5), np.random.uniform(-0.5, 0.5), .0])\n",
    "        target_location.setColor([1, 0.75, 0])\n",
    "        return target_location\n",
    "        "
   ]
  },
  {
   "cell_type": "code",
   "execution_count": 7,
   "metadata": {},
   "outputs": [],
   "source": [
    "def create_pillar_target_postion(C, position = 'fixed', n_pillars = 2):\n",
    "    \n",
    "    if position == 'fixed':\n",
    "        for i in range(0, n_pillars):\n",
    "            target_pillar = C.addFrame('pillar_target_pos' + str(i+1), 'table')\n",
    "            target_pillar.setShape(ry.ST.box, size=[.065, .065, .090])\n",
    "            target_pillar.setRelativePosition([-.45 - (i / 10) , -.225, .0])\n",
    "            target_pillar.setColor([0,1,0])\n",
    "    \n",
    "    elif position == 'random':\n",
    "        for i in range(0, n_pillars):\n",
    "            C = C.addFrame('pillar_target_pos' + str(i+1), 'table')\n",
    "            target_pillar.setShape(ry.ST.box, size=[.065, .065, .090])\n",
    "            target_pillar.setRelativePosition([np.random.uniform(-0.5, 0.5), np.random.uniform(-0.5, 0.5), .0])\n",
    "            target_pillar.setColor([0,1,0])\n",
    "        return C\n",
    "        "
   ]
  },
  {
   "cell_type": "markdown",
   "metadata": {},
   "source": [
    "### Define Komo problem"
   ]
  },
  {
   "cell_type": "code",
   "execution_count": 8,
   "metadata": {},
   "outputs": [
    {
     "data": {
      "text/plain": [
       "0"
      ]
     },
     "execution_count": 8,
     "metadata": {},
     "output_type": "execute_result"
    }
   ],
   "source": [
    "C = ry.Config()\n",
    "C.addFile(ry.raiPath('scenarios/pandaSingle.g'))\n",
    "C = create_n_boxes(C = C, N = 3, position = 'fixed')\n",
    "goal = create_construction_site(C, position = 'fixed')\n",
    "pillar_goal = create_pillar_target_postion(C, position = 'fixed')\n",
    "C.view()"
   ]
  },
  {
   "cell_type": "code",
   "execution_count": 9,
   "metadata": {},
   "outputs": [],
   "source": [
    "def gripper_to_block(C, bot, block = 'box1', prints = False):\n",
    "    qHome = C.getJointState()\n",
    "\n",
    "    komo = ry.KOMO(C, 1, 1, 0, False)\n",
    "\n",
    "    komo.addObjective(\n",
    "        times=[], \n",
    "        feature=ry.FS.jointState, \n",
    "        frames=[],\n",
    "        type=ry.OT.sos, \n",
    "        scale=[1e-1], \n",
    "        target=qHome\n",
    "    )\n",
    "    komo.addObjective([], ry.FS.jointState, [], ry.OT.sos, [1e-1], qHome)\n",
    "    komo.addObjective([], ry.FS.accumulatedCollisions, [], ry.OT.eq)\n",
    "    komo.addObjective([], ry.FS.jointLimits, [], ry.OT.ineq)\n",
    "    komo.addObjective([], ry.FS.positionDiff, ['l_gripper', block], ry.OT.eq, [1e1])\n",
    "    #komo.addObjective([], ry.FS.scalarProductXX, ['l_gripper', block], ry.OT.eq, [1e1], [0])\n",
    "    komo.addObjective([], ry.FS.scalarProductXZ, ['l_gripper', block], ry.OT.eq, [1e1], [0])\n",
    "    komo.addObjective([], ry.FS.scalarProductXY, ['l_gripper', block], ry.OT.eq, [1e1], [1])\n",
    "\n",
    "    komo.addObjective([], ry.FS.distance, ['l_palm', block], ry.OT.ineq, [1e1])\n",
    "    komo.addObjective([1], ry.FS.vectorZ, ['l_gripper'], ry.OT.eq, [1e1], [0, 0 , 1])\n",
    "    # no table collision\n",
    "    komo.addObjective([], ry.FS.distance, ['l_palm', 'table'], ry.OT.ineq, [1e1], [-0.001])\n",
    "\n",
    "    ret = ry.NLP_Solver(komo.nlp(), verbose=4) .solve()\n",
    "    if prints == True:\n",
    "        print(ret)\n",
    "    \n",
    "    q = komo.getPath()\n",
    "\n",
    "    bot.moveTo(q[-1], 5)\n",
    "    while bot.getTimeToEnd() > 0:\n",
    "        bot.sync(C, .5)"
   ]
  },
  {
   "cell_type": "code",
   "execution_count": 10,
   "metadata": {},
   "outputs": [],
   "source": [
    "def move_gripper_to(C, bot, add_frame_obj_str = 'target', carry_item = 'box1', orientation = 'vertical', prints=False):\n",
    "    komo = ry.KOMO(C, 1, 1, 1, True)\n",
    "    komo.addControlObjective([], 0, 0.1e1)\n",
    "    komo.addObjective([], ry.FS.accumulatedCollisions, [], ry.OT.eq)\n",
    "    komo.addObjective([1], ry.FS.positionDiff, ['l_gripper', add_frame_obj_str], ry.OT.eq, [1e1])\n",
    "    \n",
    "    if orientation == 'vertical':\n",
    "        komo.addObjective([1], ry.FS.vectorZ, ['l_gripper'], ry.OT.eq, [1e1], [0, 0 , 1])    \n",
    "        komo.addObjective([1], ry.FS.vectorX, ['l_gripper'], ry.OT.eq, [1e1], [0, 1, 0])     \n",
    "\n",
    "    if orientation == 'horizontal':\n",
    "        komo.addObjective([1], ry.FS.vectorZ, ['l_gripper'], ry.OT.eq, [1e1], [1, 0, 0])\n",
    "        komo.addObjective([1], ry.FS.vectorX, ['l_gripper'], ry.OT.eq, [1e1], [0, 1, 0])     \n",
    "\n",
    "    # no table collision\n",
    "    #komo.addObjective([], ry.FS.distance, ['l_palm', 'table'], ry.OT.ineq, [1e1])\n",
    "    komo.addObjective([], ry.FS.negDistance, ['l_palm', 'table'], ry.OT.ineq, [1e1], [-0.175])\n",
    "    \n",
    "    # avoid palm collision with box\n",
    "    komo.addObjective([], ry.FS.distance, ['l_gripper', carry_item], ry.OT.ineq, [1e1])\n",
    "    \n",
    "\n",
    "    # avoid box collision during transport of box\n",
    "    if carry_item == 'box1':\n",
    "        komo.addObjective([], ry.FS.distance, [carry_item, 'box2'], ry.OT.ineq, [1e1] )\n",
    "    \n",
    "    if carry_item == 'box1':\n",
    "        komo.addObjective([], ry.FS.distance, [carry_item, 'box1'], ry.OT.ineq, [1e1])\n",
    "    \n",
    "    if carry_item == 'box3':\n",
    "        komo.addObjective([], ry.FS.distance, [carry_item, 'box1'], ry.OT.ineq, [1e1])\n",
    "        komo.addObjective([], ry.FS.distance, [carry_item, 'box2'], ry.OT.ineq, [1e1])\n",
    "\n",
    "    ret = ry.NLP_Solver(komo.nlp(), verbose=4) .solve()\n",
    "    if prints == True:\n",
    "        print(ret)\n",
    "    \n",
    "    q = komo.getPath()\n",
    "    \n",
    "    bot.moveTo(q[-1], 2)\n",
    "    while bot.getTimeToEnd() > 0:\n",
    "        bot.sync(C, .1)"
   ]
  },
  {
   "cell_type": "code",
   "execution_count": 11,
   "metadata": {},
   "outputs": [],
   "source": [
    "bot = ry.BotOp(C, useRealRobot = False)"
   ]
  },
  {
   "cell_type": "markdown",
   "metadata": {},
   "source": [
    "## First block"
   ]
  },
  {
   "cell_type": "code",
   "execution_count": 12,
   "metadata": {},
   "outputs": [
    {
     "name": "stdout",
     "output_type": "stream",
     "text": [
      "====nlp==== method:AugmentedLagrangian bounded: yes\n",
      "==nlp== it:0 evals:0 mu:1 nu:1 muLB:0.1\n",
      "----newton---- initial point f(x):79.6575 alpha:1 beta:1\n",
      "--newton-- it:   1  |Delta|:        0.2  alpha:          1  evals:   2  f(y):    54.4448  ACCEPT\n",
      "--newton-- it:   2  |Delta|:        0.2  alpha:          1  evals:   3  f(y):      27.91  ACCEPT\n",
      "--newton-- it:   3  |Delta|:        0.2  alpha:          1  evals:   4  f(y):       12.4  ACCEPT\n",
      "--newton-- it:   4  |Delta|:        0.2  alpha:          1  evals:   5  f(y):    5.44637  ACCEPT\n",
      "--newton-- it:   5  |Delta|:        0.2  alpha:          1  evals:   6  f(y):    1.73578  ACCEPT\n",
      "--newton-- it:   6  |Delta|:        0.2  alpha:          1  evals:   7  f(y):   0.176322  ACCEPT\n",
      "--newton-- it:   7  |Delta|:   0.080895  alpha:          1  evals:   8  f(y):  0.0426954  ACCEPT\n",
      "--newton-- it:   8  |Delta|:  0.0314055  alpha:          1  evals:   9  f(y):  0.0383359  ACCEPT\n",
      "--newton-- it:   9  |Delta|:  0.0190444  alpha:          1  evals:  10  f(y):  0.0378521  ACCEPT\n",
      "--newton-- stopping: 'absMax(Delta)<options.stopTolerance'\n",
      "==nlp== it:   0  evals:  10  A(x):  0.0378521  f:  0.0297169  g:  0.0322245  h:   0.158022  |x-x'|:   0.996576 \tstop:DeltaConverge\n",
      "==nlp== it:   1  evals:  10  A(x):  0.0866635  mu:5\n",
      "--newton-- it:  10  |Delta|:  0.0428292  alpha:          1  evals:  11  f(y):  0.0825595  ACCEPT\n",
      "--newton-- it:  11  |Delta|:  0.0590372  alpha:          1  evals:  12  f(y):  0.0823826  ACCEPT\n",
      "--newton-- it:  12  |Delta|:  0.0182505  alpha:          1  evals:  13  f(y):  0.0804436  ACCEPT\n",
      "--newton-- it:  13  |Delta|: 0.00311403  alpha:          1  evals:  14  f(y):   0.080402  ACCEPT\n",
      "--newton-- stopping: 'absMax(Delta)<options.stopTolerance'\n",
      "==nlp== it:   1  evals:  14  A(x):   0.080402  f:  0.0298662  g:  0.0354663  h:   0.146737  |x-x'|:  0.0842975 \tstop:DeltaConverge\n",
      "==nlp== it:   2  evals:  14  A(x):   0.293457  mu:25\n",
      "--newton-- it:  14  |Delta|: 0.00311596  alpha:          1  evals:  15  f(y):   0.293362  ACCEPT\n",
      "--newton-- stopping: 'absMax(Delta)<options.stopTolerance'\n",
      "==nlp== it:   2  evals:  15  A(x):   0.293362  f:  0.0298378  g:  0.0355038  h:    0.14518  |x-x'|: 0.00311596 \tstop:DeltaConverge\n",
      "==nlp== StoppingCriterion Delta<0.01\n",
      "----newton---- final f(x):0.293362\n",
      "-- kin_physx.cpp:addJoint:299(0) ADDING JOINT l_panda_joint7-box1 of type rigid with rel [0, 0, 0]\n",
      "====nlp==== method:AugmentedLagrangian bounded: yes\n",
      "==nlp== it:0 evals:0 mu:1 nu:1 muLB:0.1\n",
      "----newton---- initial point f(x):48.7877 alpha:1 beta:1\n",
      "--newton-- it:   1  |Delta|:        0.2  alpha:          1  evals:   2  f(y):    40.7786  ACCEPT\n",
      "--newton-- it:   2  |Delta|:        0.2  alpha:          1  evals:   3  f(y):    30.7899  ACCEPT\n",
      "--newton-- it:   3  |Delta|:        0.2  alpha:          1  evals:   4  f(y):    21.5859  ACCEPT\n",
      "--newton-- it:   4  |Delta|:        0.2  alpha:          1  evals:   5  f(y):    15.5473  ACCEPT\n",
      "--newton-- it:   5  |Delta|:        0.2  alpha:          1  evals:   6  f(y):    11.1784  ACCEPT\n",
      "--newton-- it:   6  |Delta|:        0.2  alpha:          1  evals:   7  f(y):    8.32376  ACCEPT\n",
      "--newton-- it:   7  |Delta|:        0.2  alpha:          1  evals:   8  f(y):    7.08032  ACCEPT\n",
      "--newton-- it:   8  |Delta|:   0.107371  alpha:          1  evals:   9  f(y):    6.93196  ACCEPT\n",
      "--newton-- it:   9  |Delta|:   0.048086  alpha:          1  evals:  10  f(y):    6.87992  ACCEPT\n",
      "--newton-- it:  10  |Delta|:  0.0466974  alpha:          1  evals:  11  f(y):    6.86798  ACCEPT\n",
      "--newton-- it:  11  |Delta|:  0.0368145  alpha:          1  evals:  12  f(y):    6.83854  ACCEPT\n",
      "--newton-- it:  12  |Delta|:  0.0280233  alpha:          1  evals:  13  f(y):    6.84287  reject (lineSearch:0)\n",
      "                    (line search)        alpha:        0.5  evals:  14  f(y):    6.83362  ACCEPT\n",
      "--newton-- stopping: 'absMax(Delta)<options.stopTolerance'\n",
      "==nlp== it:   0  evals:  14  A(x):    6.83362  f:    4.28457  g:   0.531706  h:    2.70301  |x-x'|:     1.3686 \tstop:DeltaConverge\n",
      "==nlp== it:   1  evals:  14  A(x):    22.1279  mu:5\n",
      "--newton-- it:  13  |Delta|:        0.2  alpha:       0.75  evals:  15  f(y):    19.3621  ACCEPT\n",
      "--newton-- it:  14  |Delta|:        0.2  alpha:          1  evals:  16  f(y):    17.9911  ACCEPT\n",
      "--newton-- it:  15  |Delta|:  0.0902302  alpha:          1  evals:  17  f(y):    17.7445  ACCEPT\n",
      "--newton-- it:  16  |Delta|:  0.0581664  alpha:          1  evals:  18  f(y):    17.6516  ACCEPT\n",
      "--newton-- it:  17  |Delta|:  0.0245413  alpha:          1  evals:  19  f(y):    17.7419  reject (lineSearch:0)\n",
      "                    (line search)        alpha:        0.5  evals:  20  f(y):    17.6286  ACCEPT\n",
      "--newton-- it:  18  |Delta|:  0.0199597  alpha:       0.75  evals:  21  f(y):    17.7118  reject (lineSearch:0)\n",
      "                    (line search)        alpha:      0.375  evals:  22  f(y):    17.6211  ACCEPT\n",
      "--newton-- it:  19  |Delta|:  0.0141797  alpha:     0.5625  evals:  23  f(y):    17.7107  reject (lineSearch:0)\n",
      "                    (line search)        alpha:    0.28125  evals:  24  f(y):    17.6262  reject (lineSearch:1)\n",
      "                    (line search)        alpha:   0.140625  evals:  25  f(y):    17.7011  reject (lineSearch:2)\n",
      "                    (line search)        alpha:  0.0703125  evals:  26  f(y):    17.6217  reject (lineSearch:3)\n",
      "                    (line search)        alpha:  0.0351562  evals:  27  f(y):     17.699  reject (lineSearch:4)\n",
      "                    (line search)        alpha:  0.0175781  evals:  28  f(y):    17.6209  ACCEPT\n",
      "--newton-- it:  20  |Delta|:  0.0139954  alpha:  0.0263672  evals:  29  f(y):    17.6991  reject (lineSearch:0)\n",
      "                    (line search)        alpha:  0.0131836  evals:  30  f(y):     17.621  reject (lineSearch:1)\n",
      "                    (line search)        alpha:  0.0065918  evals:  31  f(y):    17.6988  reject (lineSearch:2)\n",
      "                    (line search)        alpha:  0.0032959  evals:  32  f(y):    17.6209  ACCEPT\n",
      "--newton-- it:  21  |Delta|:  0.0139613  alpha: 0.00494385  evals:  33  f(y):    17.6988  reject (lineSearch:0)\n",
      "                    (line search)        alpha: 0.00247192  evals:  34  f(y):    17.6208  ACCEPT\n",
      "--newton-- it:  22  |Delta|:  0.0139358  alpha: 0.00370789  evals:  35  f(y):    17.6988  reject (lineSearch:0)\n",
      "                    (line search)        alpha: 0.00185394  evals:  36  f(y):    17.6208  reject (lineSearch:1)\n",
      "                    (line search)        alpha:0.000926971  evals:  37  f(y):    17.6988  reject (lineSearch:2)\n",
      "                    (line search)        alpha:0.000463486  evals:  38  f(y):    17.6208  ACCEPT\n",
      "--newton-- it:  23  |Delta|:  0.0139311  alpha:0.000695229  evals:  39  f(y):    17.6988  reject (lineSearch:0)\n",
      "                    (line search)        alpha:0.000347614  evals:  40  f(y):    17.6208  ACCEPT\n",
      "--newton-- it:  24  |Delta|:  0.0139275  alpha:0.000521421  evals:  41  f(y):    17.6988  reject (lineSearch:0)\n",
      "                    (line search)        alpha:0.000260711  evals:  42  f(y):    17.6208  ACCEPT\n",
      "--newton-- stopping: 'numTinyXSteps>4'\n",
      "==nlp== it:   1  evals:  42  A(x):    17.6208  f:    5.92721  g:    1.02313  h:    1.03331  |x-x'|:   0.429341 \tstop:TinyXSteps (bad:1)\n",
      "==nlp== it:   2  evals:  42  A(x):    67.8334  mu:25\n",
      "--newton-- it:  25  |Delta|:  0.0273419  alpha:       0.01  evals:  43  f(y):    68.2302  reject (lineSearch:0)\n",
      "                    (line search)        alpha:      0.005  evals:  44  f(y):    67.8316  ACCEPT\n",
      "--newton-- it:  26  |Delta|:  0.0275631  alpha:     0.0075  evals:  45  f(y):    68.2302  reject (lineSearch:0)\n",
      "                    (line search)        alpha:    0.00375  evals:  46  f(y):    67.8307  ACCEPT\n",
      "--newton-- it:  27  |Delta|:  0.0266876  alpha:   0.005625  evals:  47  f(y):    68.2287  reject (lineSearch:0)\n",
      "                    (line search)        alpha:  0.0028125  evals:  48  f(y):    67.8293  ACCEPT\n",
      "--newton-- it:  28  |Delta|:  0.0266116  alpha: 0.00421875  evals:  49  f(y):    68.2284  reject (lineSearch:0)\n",
      "                    (line search)        alpha: 0.00210938  evals:  50  f(y):    67.8285  ACCEPT\n",
      "--newton-- it:  29  |Delta|:  0.0273276  alpha: 0.00316406  evals:  51  f(y):    68.2279  reject (lineSearch:0)\n",
      "                    (line search)        alpha: 0.00158203  evals:  52  f(y):    67.8279  ACCEPT\n",
      "--newton-- it:  30  |Delta|:  0.0265117  alpha: 0.00237305  evals:  53  f(y):    68.2275  reject (lineSearch:0)\n",
      "                    (line search)        alpha: 0.00118652  evals:  54  f(y):    67.8275  ACCEPT\n",
      "--newton-- it:  31  |Delta|:  0.0272528  alpha: 0.00177979  evals:  55  f(y):    68.2273  reject (lineSearch:0)\n",
      "                    (line search)        alpha:0.000889893  evals:  56  f(y):    67.8272  ACCEPT\n",
      "--newton-- stopping: 'numTinyXSteps>4'\n",
      "==nlp== it:   2  evals:  56  A(x):    67.8272  f:    5.92805  g:    1.02293  h:    1.03132  |x-x'|:0.000470205 \tstop:TinyXSteps (bad:2)\n",
      "==nlp== StoppingCriterion Delta<0.01\n",
      "----newton---- final f(x):67.8272\n",
      "-- kin_physx.cpp:removeJoint:893(0) REMOVING JOINT 0x26d4be0-0x3197980 of type rigid\n"
     ]
    }
   ],
   "source": [
    "gripper_open(C, bot)\n",
    "gripper_to_block(C, bot, block='box1')\n",
    "gripper_close_grasp(bot, target_obj = 'box1', force = 5.0,  widht = 0.045)\n",
    "move_gripper_to(C, bot, add_frame_obj_str = 'pillar_target_pos1', carry_item = 'box1', orientation = 'vertical')\n",
    "gripper_open(C, bot)\n",
    "bot.home(C)"
   ]
  },
  {
   "cell_type": "markdown",
   "metadata": {},
   "source": [
    "### Second Block"
   ]
  },
  {
   "cell_type": "code",
   "execution_count": 13,
   "metadata": {},
   "outputs": [
    {
     "name": "stdout",
     "output_type": "stream",
     "text": [
      "====nlp==== method:AugmentedLagrangian bounded: yes\n",
      "==nlp== it:0 evals:0 mu:1 nu:1 muLB:0.1\n",
      "----newton---- initial point f(x):80.968 alpha:1 beta:1\n",
      "--newton-- it:   1  |Delta|:        0.2  alpha:          1  evals:   2  f(y):    55.6692  ACCEPT\n",
      "--newton-- it:   2  |Delta|:        0.2  alpha:          1  evals:   3  f(y):     29.405  ACCEPT\n",
      "--newton-- it:   3  |Delta|:        0.2  alpha:          1  evals:   4  f(y):    12.3942  ACCEPT\n",
      "--newton-- it:   4  |Delta|:        0.2  alpha:          1  evals:   5  f(y):    5.32759  ACCEPT\n",
      "--newton-- it:   5  |Delta|:        0.2  alpha:          1  evals:   6  f(y):    1.61739  ACCEPT\n",
      "--newton-- it:   6  |Delta|:        0.2  alpha:          1  evals:   7  f(y):   0.132549  ACCEPT\n",
      "--newton-- it:   7  |Delta|:  0.0651679  alpha:          1  evals:   8  f(y):  0.0417099  ACCEPT\n",
      "--newton-- it:   8  |Delta|:  0.0261811  alpha:          1  evals:   9  f(y):  0.0381157  ACCEPT\n",
      "--newton-- stopping: 'absMax(Delta)<options.stopTolerance'\n",
      "==nlp== it:   0  evals:   9  A(x):  0.0381157  f:  0.0297698  g:  0.0323738  h:   0.175009  |x-x'|:   0.964689 \tstop:DeltaConverge\n",
      "==nlp== it:   1  evals:   9  A(x):  0.0881908  mu:5\n",
      "--newton-- it:   9  |Delta|:  0.0348826  alpha:          1  evals:  10  f(y):  0.0835873  ACCEPT\n",
      "--newton-- it:  10  |Delta|:  0.0383344  alpha:          1  evals:  11  f(y):  0.0813681  ACCEPT\n",
      "--newton-- it:  11  |Delta|:  0.0192319  alpha:          1  evals:  12  f(y):  0.0809947  ACCEPT\n",
      "--newton-- it:  12  |Delta|: 0.00434702  alpha:          1  evals:  13  f(y):  0.0809519  ACCEPT\n",
      "--newton-- stopping: 'absMax(Delta)<options.stopTolerance'\n",
      "==nlp== it:   1  evals:  13  A(x):  0.0809519  f:  0.0307759  g:   0.035423  h:   0.142466  |x-x'|:  0.0881018 \tstop:DeltaConverge\n",
      "==nlp== it:   2  evals:  13  A(x):   0.291831  mu:25\n",
      "--newton-- it:  13  |Delta|: 0.00747515  alpha:          1  evals:  14  f(y):    0.29162  ACCEPT\n",
      "--newton-- stopping: 'absMax(Delta)<options.stopTolerance'\n",
      "==nlp== it:   2  evals:  14  A(x):    0.29162  f:  0.0308781  g:  0.0354858  h:    0.14361  |x-x'|: 0.00747515 \tstop:DeltaConverge\n",
      "==nlp== StoppingCriterion Delta<0.01\n",
      "----newton---- final f(x):0.29162\n",
      "-- kin_physx.cpp:addJoint:299(0) ADDING JOINT l_panda_joint7-box2 of type rigid with rel [0, 0, 0]\n",
      "====nlp==== method:AugmentedLagrangian bounded: yes\n",
      "==nlp== it:0 evals:0 mu:1 nu:1 muLB:0.1\n",
      "----newton---- initial point f(x):64.1441 alpha:1 beta:1\n",
      "--newton-- it:   1  |Delta|:        0.2  alpha:          1  evals:   2  f(y):    51.1425  ACCEPT\n",
      "--newton-- it:   2  |Delta|:        0.2  alpha:          1  evals:   3  f(y):    37.4571  ACCEPT\n",
      "--newton-- it:   3  |Delta|:        0.2  alpha:          1  evals:   4  f(y):    22.0441  ACCEPT\n",
      "--newton-- it:   4  |Delta|:        0.2  alpha:          1  evals:   5  f(y):    12.2276  ACCEPT\n",
      "--newton-- it:   5  |Delta|:        0.2  alpha:          1  evals:   6  f(y):    6.44925  ACCEPT\n",
      "--newton-- it:   6  |Delta|:        0.2  alpha:          1  evals:   7  f(y):    5.16105  ACCEPT\n",
      "--newton-- it:   7  |Delta|:    0.14977  alpha:          1  evals:   8  f(y):    4.78664  ACCEPT\n",
      "--newton-- it:   8  |Delta|:  0.0363654  alpha:          1  evals:   9  f(y):    4.75962  ACCEPT\n",
      "--newton-- it:   9  |Delta|:  0.0127649  alpha:          1  evals:  10  f(y):    4.75808  ACCEPT\n",
      "--newton-- stopping: 'absMax(Delta)<options.stopTolerance'\n",
      "==nlp== it:   0  evals:  10  A(x):    4.75808  f:    2.92872  g:   0.676327  h:     1.6042  |x-x'|:    1.06801 \tstop:DeltaConverge\n",
      "==nlp== it:   1  evals:  10  A(x):    15.7342  mu:5\n",
      "--newton-- it:  10  |Delta|:  0.0824126  alpha:          1  evals:  11  f(y):    14.9596  ACCEPT\n",
      "--newton-- it:  11  |Delta|:  0.0241834  alpha:          1  evals:  12  f(y):    14.9738  reject (lineSearch:0)\n",
      "                    (line search)        alpha:        0.5  evals:  13  f(y):    14.8955  ACCEPT\n",
      "--newton-- it:  12  |Delta|: 0.00941804  alpha:       0.75  evals:  14  f(y):    14.9291  reject (lineSearch:0)\n",
      "                    (line search)        alpha:      0.375  evals:  15  f(y):    14.8984  reject (lineSearch:1)\n",
      "                    (line search)        alpha:     0.1875  evals:  16  f(y):    14.8862  ACCEPT\n",
      "--newton-- stopping: 'absMax(Delta)<options.stopTolerance'\n",
      "==nlp== it:   1  evals:  16  A(x):    14.8862  f:    3.27177  g:   0.910681  h:   0.962975  |x-x'|:  0.0774024 \tstop:DeltaConverge\n",
      "==nlp== it:   2  evals:  16  A(x):    64.6373  mu:25\n",
      "--newton-- it:  13  |Delta|:  0.0126654  alpha:    0.28125  evals:  17  f(y):    64.7316  reject (lineSearch:0)\n",
      "                    (line search)        alpha:   0.140625  evals:  18  f(y):    64.6798  reject (lineSearch:1)\n",
      "                    (line search)        alpha:  0.0703125  evals:  19  f(y):    64.6564  reject (lineSearch:2)\n",
      "                    (line search)        alpha:  0.0351562  evals:  20  f(y):    64.6453  reject (lineSearch:3)\n",
      "                    (line search)        alpha:  0.0175781  evals:  21  f(y):      64.64  reject (lineSearch:4)\n",
      "                    (line search)        alpha: 0.00878906  evals:  22  f(y):    64.6373  reject (lineSearch:5)\n",
      "                    (line search)        alpha: 0.00439453  evals:  23  f(y):     64.636  ACCEPT\n",
      "--newton-- it:  14  |Delta|:   0.010291  alpha:  0.0065918  evals:  24  f(y):    64.6378  reject (lineSearch:0)\n",
      "                    (line search)        alpha:  0.0032959  evals:  25  f(y):    64.6368  reject (lineSearch:1)\n",
      "                    (line search)        alpha: 0.00164795  evals:  26  f(y):    64.6363  reject (lineSearch:2)\n",
      "                    (line search)        alpha:0.000823975  evals:  27  f(y):    64.6361  reject (lineSearch:3)\n",
      "                    (line search)        alpha:0.000411987  evals:  28  f(y):     64.636  ACCEPT\n",
      "--newton-- it:  15  |Delta|:  0.0126146  alpha:0.000617981  evals:  29  f(y):    64.6361  reject (lineSearch:0)\n",
      "                    (line search)        alpha: 0.00030899  evals:  30  f(y):     64.636  reject (lineSearch:1)\n",
      "                    (line search)        alpha:0.000154495  evals:  31  f(y):    64.6359  ACCEPT\n",
      "--newton-- it:  16  |Delta|:  0.0102889  alpha:0.000231743  evals:  32  f(y):     64.636  reject (lineSearch:0)\n",
      "                    (line search)        alpha:0.000115871  evals:  33  f(y):    64.6359  ACCEPT\n",
      "--newton-- it:  17  |Delta|:  0.0126128  alpha:0.000173807  evals:  34  f(y):     64.636  reject (lineSearch:0)\n",
      "                    (line search)        alpha:8.69036e-05  evals:  35  f(y):    64.6359  ACCEPT\n",
      "--newton-- stopping: 'numTinyXSteps>4'\n",
      "==nlp== it:   2  evals:  35  A(x):    64.6359  f:     3.2717  g:   0.910651  h:   0.963184  |x-x'|: 5.9226e-05 \tstop:TinyXSteps (bad:1)\n",
      "==nlp== StoppingCriterion Delta<0.01\n",
      "----newton---- final f(x):64.6359\n",
      "-- kin_physx.cpp:removeJoint:893(0) REMOVING JOINT 0x419f240-0x49377d0 of type rigid\n"
     ]
    }
   ],
   "source": [
    "gripper_open(C, bot)\n",
    "gripper_to_block(C, bot, block='box2')\n",
    "gripper_close_grasp(bot, target_obj = 'box2', force = 5.0,  widht = 0.045)\n",
    "move_gripper_to(C, bot, add_frame_obj_str = 'pillar_target_pos2', carry_item = 'box2', orientation = 'vertical')\n",
    "gripper_open(C, bot)\n",
    "bot.home(C)"
   ]
  },
  {
   "cell_type": "markdown",
   "metadata": {},
   "source": [
    "### 3rd Block"
   ]
  },
  {
   "cell_type": "code",
   "execution_count": 14,
   "metadata": {},
   "outputs": [
    {
     "data": {
      "text/plain": [
       "0"
      ]
     },
     "execution_count": 14,
     "metadata": {},
     "output_type": "execute_result"
    }
   ],
   "source": [
    "box_1 = C.getFrame('box1')\n",
    "box_2 = C.getFrame('box2')\n",
    "box_pos1 = box_1.getPosition()\n",
    "box_pos2 = box_2.getPosition()\n",
    "offset = 0.125\n",
    "middle_between_towers = np.mean([box_pos1, box_pos2], 0) + [0, 0, offset]\n",
    "C.addFrame('block3_target').setShape(ry.ST.marker, [.1, .1, .1]).setPosition(middle_between_towers).setColor([1, .5, 1])\n",
    "C.view()"
   ]
  },
  {
   "cell_type": "code",
   "execution_count": 15,
   "metadata": {},
   "outputs": [
    {
     "name": "stdout",
     "output_type": "stream",
     "text": [
      "====nlp==== method:AugmentedLagrangian bounded: yes\n",
      "==nlp== it:0 evals:0 mu:1 nu:1 muLB:0.1\n",
      "----newton---- initial point f(x):79.5193 alpha:1 beta:1\n",
      "--newton-- it:   1  |Delta|:        0.2  alpha:          1  evals:   2  f(y):    52.1175  ACCEPT\n",
      "--newton-- it:   2  |Delta|:        0.2  alpha:          1  evals:   3  f(y):    23.8407  ACCEPT\n",
      "--newton-- it:   3  |Delta|:        0.2  alpha:          1  evals:   4  f(y):    10.7151  ACCEPT\n",
      "--newton-- it:   4  |Delta|:        0.2  alpha:          1  evals:   5  f(y):    4.48457  ACCEPT\n",
      "--newton-- it:   5  |Delta|:        0.2  alpha:          1  evals:   6  f(y):    1.23975  ACCEPT\n",
      "--newton-- it:   6  |Delta|:        0.2  alpha:          1  evals:   7  f(y):  0.0742348  ACCEPT\n",
      "--newton-- it:   7  |Delta|:  0.0460195  alpha:          1  evals:   8  f(y):  0.0447539  ACCEPT\n",
      "--newton-- it:   8  |Delta|: 0.00759082  alpha:          1  evals:   9  f(y):  0.0443636  ACCEPT\n",
      "--newton-- stopping: 'absMax(Delta)<options.stopTolerance'\n",
      "==nlp== it:   0  evals:   9  A(x):  0.0443636  f:  0.0354135  g:    0.03166  h:   0.158427  |x-x'|:   0.980223 \tstop:DeltaConverge\n",
      "==nlp== it:   1  evals:   9  A(x):  0.0980642  mu:5\n",
      "--newton-- it:   9  |Delta|: 0.00765833  alpha:          1  evals:  10  f(y):  0.0976893  ACCEPT\n",
      "--newton-- stopping: 'absMax(Delta)<options.stopTolerance'\n",
      "==nlp== it:   1  evals:  10  A(x):  0.0976893  f:   0.035335  g:  0.0355469  h:   0.149878  |x-x'|: 0.00765833 \tstop:DeltaConverge\n",
      "==nlp== StoppingCriterion Delta<0.01\n",
      "----newton---- final f(x):0.0976893\n",
      "-- kin_physx.cpp:addJoint:299(0) ADDING JOINT l_panda_joint7-box3 of type rigid with rel [0, 0, 0]\n",
      "====nlp==== method:AugmentedLagrangian bounded: yes\n",
      "==nlp== it:0 evals:0 mu:1 nu:1 muLB:0.1\n",
      "----newton---- initial point f(x):272.919 alpha:1 beta:1\n",
      "--newton-- it:   1  |Delta|:        0.2  alpha:          1  evals:   2  f(y):    241.428  ACCEPT\n",
      "--newton-- it:   2  |Delta|:        0.2  alpha:          1  evals:   3  f(y):    208.059  ACCEPT\n",
      "--newton-- it:   3  |Delta|:        0.2  alpha:          1  evals:   4  f(y):    186.178  ACCEPT\n",
      "--newton-- it:   4  |Delta|:        0.2  alpha:          1  evals:   5  f(y):    165.812  ACCEPT\n",
      "--newton-- it:   5  |Delta|:        0.2  alpha:          1  evals:   6  f(y):    144.405  ACCEPT\n",
      "--newton-- it:   6  |Delta|:        0.2  alpha:          1  evals:   7  f(y):    121.336  ACCEPT\n",
      "--newton-- it:   7  |Delta|:        0.2  alpha:          1  evals:   8  f(y):    97.2404  ACCEPT\n",
      "--newton-- it:   8  |Delta|:        0.2  alpha:          1  evals:   9  f(y):    73.8228  ACCEPT\n",
      "--newton-- it:   9  |Delta|:        0.2  alpha:          1  evals:  10  f(y):    51.4794  ACCEPT\n",
      "--newton-- it:  10  |Delta|:        0.2  alpha:          1  evals:  11  f(y):    34.8018  ACCEPT\n",
      "--newton-- it:  11  |Delta|:        0.2  alpha:          1  evals:  12  f(y):    23.6582  ACCEPT\n",
      "--newton-- it:  12  |Delta|:        0.2  alpha:          1  evals:  13  f(y):    17.1404  ACCEPT\n",
      "--newton-- it:  13  |Delta|:        0.2  alpha:          1  evals:  14  f(y):    14.3176  ACCEPT\n",
      "--newton-- it:  14  |Delta|:   0.162231  alpha:          1  evals:  15  f(y):    13.8738  ACCEPT\n",
      "--newton-- it:  15  |Delta|:   0.107959  alpha:          1  evals:  16  f(y):    13.7513  ACCEPT\n",
      "--newton-- it:  16  |Delta|:  0.0615202  alpha:          1  evals:  17  f(y):    13.7247  ACCEPT\n",
      "--newton-- it:  17  |Delta|:  0.0143117  alpha:          1  evals:  18  f(y):    13.7214  ACCEPT\n",
      "--newton-- stopping: 'absMax(Delta)<options.stopTolerance'\n",
      "==nlp== it:   0  evals:  18  A(x):    13.7214  f:     11.408  g:  0.0958375  h:    3.14099  |x-x'|:    2.54876 \tstop:DeltaConverge\n",
      "==nlp== it:   1  evals:  18  A(x):    27.6016  mu:5\n",
      "--newton-- it:  18  |Delta|:        0.2  alpha:          1  evals:  19  f(y):    21.2609  ACCEPT\n",
      "--newton-- it:  19  |Delta|:        0.2  alpha:          1  evals:  20  f(y):    48.9191  reject (lineSearch:0)\n",
      "                    (line search)        alpha:        0.5  evals:  21  f(y):    25.7665  reject (lineSearch:1)\n",
      "                    (line search)        alpha:       0.25  evals:  22  f(y):    21.1904  ACCEPT\n",
      "--newton-- it:  20  |Delta|:   0.188466  alpha:      0.375  evals:  23  f(y):    20.1731  ACCEPT\n",
      "--newton-- it:  21  |Delta|:   0.118747  alpha:     0.5625  evals:  24  f(y):     19.596  ACCEPT\n",
      "--newton-- it:  22  |Delta|:  0.0981275  alpha:    0.84375  evals:  25  f(y):    19.3331  ACCEPT\n",
      "--newton-- it:  23  |Delta|:    0.11864  alpha:          1  evals:  26  f(y):    19.1809  ACCEPT\n",
      "--newton-- it:  24  |Delta|:  0.0922004  alpha:          1  evals:  27  f(y):    19.0876  ACCEPT\n",
      "--newton-- it:  25  |Delta|:  0.0636021  alpha:          1  evals:  28  f(y):    18.9922  ACCEPT\n",
      "--newton-- it:  26  |Delta|:  0.0380752  alpha:          1  evals:  29  f(y):    18.9683  ACCEPT\n",
      "--newton-- it:  27  |Delta|:  0.0299684  alpha:          1  evals:  30  f(y):    18.9475  ACCEPT\n",
      "--newton-- it:  28  |Delta|:  0.0127868  alpha:          1  evals:  31  f(y):    18.9519  reject (lineSearch:0)\n",
      "                    (line search)        alpha:        0.5  evals:  32  f(y):    18.9288  ACCEPT\n",
      "--newton-- it:  29  |Delta|:  0.0131232  alpha:       0.75  evals:  33  f(y):    18.9364  reject (lineSearch:0)\n",
      "                    (line search)        alpha:      0.375  evals:  34  f(y):    18.9276  ACCEPT\n",
      "--newton-- it:  30  |Delta|: 0.00815816  alpha:     0.5625  evals:  35  f(y):    18.9348  reject (lineSearch:0)\n",
      "                    (line search)        alpha:    0.28125  evals:  36  f(y):    18.9276  reject (lineSearch:1)\n",
      "                    (line search)        alpha:   0.140625  evals:  37  f(y):    18.9249  ACCEPT\n",
      "--newton-- stopping: 'absMax(Delta)<options.stopTolerance'\n",
      "==nlp== it:   1  evals:  37  A(x):    18.9249  f:    15.5288  g:   0.560918  h:   0.773411  |x-x'|:   0.500403 \tstop:DeltaConverge\n",
      "==nlp== it:   2  evals:  37  A(x):    32.6343  mu:25\n",
      "--newton-- it:  31  |Delta|:        0.2  alpha:   0.210938  evals:  38  f(y):    31.8689  ACCEPT\n",
      "--newton-- it:  32  |Delta|:        0.2  alpha:   0.316406  evals:  39  f(y):    30.7523  ACCEPT\n",
      "--newton-- it:  33  |Delta|:        0.2  alpha:   0.474609  evals:  40  f(y):    29.4463  ACCEPT\n",
      "--newton-- it:  34  |Delta|:   0.157702  alpha:   0.711914  evals:  41  f(y):    28.5306  ACCEPT\n",
      "--newton-- it:  35  |Delta|:  0.0689432  alpha:          1  evals:  42  f(y):    31.4337  reject (lineSearch:0)\n",
      "                    (line search)        alpha:        0.5  evals:  43  f(y):    28.1387  ACCEPT\n",
      "--newton-- it:  36  |Delta|: 0.00702108  alpha:       0.75  evals:  44  f(y):    28.0522  ACCEPT\n",
      "--newton-- stopping: 'absMax(Delta)<options.stopTolerance'\n",
      "==nlp== it:   2  evals:  44  A(x):    28.0522  f:    17.9013  g:   0.389481  h:   0.422004  |x-x'|:    0.28149 \tstop:DeltaConverge\n",
      "==nlp== it:   3  evals:  44  A(x):    68.1098  mu:125\n",
      "--newton-- it:  37  |Delta|:  0.0140108  alpha:          1  evals:  45  f(y):    69.5693  reject (lineSearch:0)\n",
      "                    (line search)        alpha:        0.5  evals:  46  f(y):    68.2501  reject (lineSearch:1)\n",
      "                    (line search)        alpha:       0.25  evals:  47  f(y):    67.9236  ACCEPT\n",
      "--newton-- it:  38  |Delta|:  0.0624844  alpha:      0.375  evals:  48  f(y):     74.993  reject (lineSearch:0)\n",
      "                    (line search)        alpha:     0.1875  evals:  49  f(y):    69.8787  reject (lineSearch:1)\n",
      "                    (line search)        alpha:    0.09375  evals:  50  f(y):    68.4606  reject (lineSearch:2)\n",
      "                    (line search)        alpha:   0.046875  evals:  51  f(y):    68.0367  reject (lineSearch:3)\n",
      "                    (line search)        alpha:  0.0234375  evals:  52  f(y):    67.8962  ACCEPT\n",
      "--newton-- it:  39  |Delta|: 0.00949294  alpha:  0.0351562  evals:  53  f(y):    67.8795  ACCEPT\n",
      "--newton-- stopping: 'absMax(Delta)<options.stopTolerance'\n",
      "==nlp== it:   3  evals:  53  A(x):    67.8795  f:    17.9159  g:    0.38496  h:   0.430114  |x-x'|: 0.00427025 \tstop:DeltaConverge\n",
      "==nlp== StoppingCriterion Delta<0.01\n",
      "----newton---- final f(x):67.8795\n",
      "-- kin_physx.cpp:removeJoint:893(0) REMOVING JOINT 0x226b060-0x2d24450 of type rigid\n"
     ]
    }
   ],
   "source": [
    "gripper_to_block(C, bot, block='box3')\n",
    "gripper_close_grasp(bot, target_obj = 'box3', force = 5.0,  widht = 0.045)\n",
    "move_gripper_to(bot, add_frame_obj_str = 'block3_target', carry_item = 'box3', orientation = 'horizontal')\n",
    "gripper_open(C, bot)\n",
    "bot.home(C)"
   ]
  },
  {
   "cell_type": "code",
   "execution_count": 25,
   "metadata": {},
   "outputs": [],
   "source": [
    "bot.home(C)"
   ]
  },
  {
   "cell_type": "markdown",
   "metadata": {},
   "source": [
    "### Clear config"
   ]
  },
  {
   "cell_type": "code",
   "execution_count": 16,
   "metadata": {},
   "outputs": [],
   "source": [
    "C.clear()"
   ]
  }
 ],
 "metadata": {
  "kernelspec": {
   "display_name": "Python 3",
   "language": "python",
   "name": "python3"
  },
  "language_info": {
   "codemirror_mode": {
    "name": "ipython",
    "version": 3
   },
   "file_extension": ".py",
   "mimetype": "text/x-python",
   "name": "python",
   "nbconvert_exporter": "python",
   "pygments_lexer": "ipython3",
   "version": "3.8.10"
  }
 },
 "nbformat": 4,
 "nbformat_minor": 2
}
