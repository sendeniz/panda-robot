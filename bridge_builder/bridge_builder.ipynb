{
 "cells": [
  {
   "cell_type": "markdown",
   "metadata": {},
   "source": [
    "### Libaries"
   ]
  },
  {
   "cell_type": "code",
   "execution_count": 1,
   "metadata": {},
   "outputs": [
    {
     "name": "stdout",
     "output_type": "stream",
     "text": [
      "version: 0.1.3 compile time: Dec 15 2023 11:21:37\n"
     ]
    }
   ],
   "source": [
    "import robotic as ry\n",
    "import numpy as np\n",
    "import time\n",
    "from scipy.interpolate import Rbf\n",
    "from scipy.interpolate import CubicSpline\n",
    "print('version:', ry.__version__, ry.compiled())"
   ]
  },
  {
   "cell_type": "markdown",
   "metadata": {},
   "source": [
    "### Initalise configuration"
   ]
  },
  {
   "cell_type": "code",
   "execution_count": 2,
   "metadata": {},
   "outputs": [
    {
     "data": {
      "text/plain": [
       "0"
      ]
     },
     "execution_count": 2,
     "metadata": {},
     "output_type": "execute_result"
    }
   ],
   "source": [
    "C = ry.Config()\n",
    "C.addFile(ry.raiPath('scenarios/pandaSingle.g'))\n",
    "C.view()"
   ]
  },
  {
   "cell_type": "markdown",
   "metadata": {},
   "source": [
    "### Define color map"
   ]
  },
  {
   "cell_type": "code",
   "execution_count": 3,
   "metadata": {},
   "outputs": [],
   "source": [
    "color_map = [[1,0,.5], # pink\n",
    "             [0.5,1,0], # lime green\n",
    "             [.5,1,1], # light turqois\n",
    "             [0.5,0,1], # violet\n",
    "             [1,0,0], # red\n",
    "             [0,1,0], # green\n",
    "             [0,0,1], # blue\n",
    "             [1,.5,0], # orange\n",
    "             [1,1,.5], # lime yellow\n",
    "             [1,.5,1], # light pink                            \n",
    "]"
   ]
  },
  {
   "cell_type": "markdown",
   "metadata": {},
   "source": [
    "### Gripper functions"
   ]
  },
  {
   "cell_type": "code",
   "execution_count": 4,
   "metadata": {},
   "outputs": [],
   "source": [
    "def gripper_open(C, bot, widht = 0.75, speed = 0.2):\n",
    "    bot.gripperMove(ry._left, widht, speed)\n",
    "\n",
    "    while not bot.gripperDone(ry._left):\n",
    "        bot.sync(C, .1)\n",
    "\n",
    "def gripper_close(bot, widht = 0.01, speed = 0.2):\n",
    "    bot.gripperMove(ry._left, widht, speed)\n",
    "\n",
    "    while not bot.gripperDone(ry._left):\n",
    "        bot.sync(C, .1)\n",
    "\n",
    "def gripper_close_grasp(bot, target_obj = '', force=10.00, widht = 0.01, speed = 0.2):\n",
    "    bot.gripperCloseGrasp(ry._left, target_obj, force, widht, speed)\n",
    "    while not bot.gripperDone(ry._left):\n",
    "        bot.sync(C, .1)\n",
    "    "
   ]
  },
  {
   "cell_type": "markdown",
   "metadata": {},
   "source": [
    "### Create N number of building cuboids"
   ]
  },
  {
   "cell_type": "code",
   "execution_count": 5,
   "metadata": {},
   "outputs": [],
   "source": [
    "def create_n_boxes(C, N, position='fixed'):\n",
    "\n",
    "    for i in range(N):\n",
    "        box_name = 'box{}'.format(i + 1)\n",
    "\n",
    "        if position == 'fixed':\n",
    "            position_val1 = 0.1 * (i - 1)\n",
    "            C.addFrame(box_name) \\\n",
    "                .setPosition([position_val1, 0.35, 0.70]) \\\n",
    "                .setShape(ry.ST.ssBox, size=[0.05, 0.05, 0.10, 0.005]) \\\n",
    "                .setColor(color_map[i % len(color_map)]) \\\n",
    "                .setContact(True) \\\n",
    "                .setMass(1e-2)\n",
    "\n",
    "\n",
    "        elif position == 'random':\n",
    "            C.addFrame(box_name) \\\n",
    "                .setPosition([np.random.uniform(-0.5, 0.5), np.random.uniform(-0.5, 0.5), 0.70]) \\\n",
    "                .setShape(ry.ST.ssBox, size=[0.05, 0.05, 0.10, 0.005]) \\\n",
    "                .setColor(color_map[i % len(color_map)]) \\\n",
    "                .setContact(True) \\\n",
    "                .setMass(1e-2)\n",
    "    \n",
    "    return C"
   ]
  },
  {
   "cell_type": "markdown",
   "metadata": {},
   "source": [
    "### Define construction site"
   ]
  },
  {
   "cell_type": "code",
   "execution_count": 6,
   "metadata": {},
   "outputs": [],
   "source": [
    "def create_construction_site(C, position = 'fixed'):\n",
    "    \n",
    "    if position == 'fixed':\n",
    "        target_location = C.addFrame('construction_site', 'table')\n",
    "        target_location.setShape(ry.ST.box, size = [.275, .275, .1])\n",
    "        target_location.setRelativePosition([-.5, -.225, .0])\n",
    "        target_location.setColor([1., 0.75, 0.])\n",
    "        return target_location\n",
    "    \n",
    "    elif position == 'random':\n",
    "        target_location = C.addFrame('construction_site', 'table')\n",
    "        target_location.setShape(ry.ST.box, size = [.3, .3, .1])\n",
    "        target_location.setRelativePosition([np.random.uniform(-0.5, 0.5), np.random.uniform(-0.5, 0.5), .0])\n",
    "        target_location.setColor([1, 0.75, 0])\n",
    "        return target_location\n",
    "        "
   ]
  },
  {
   "cell_type": "code",
   "execution_count": 7,
   "metadata": {},
   "outputs": [],
   "source": [
    "def create_pillar_target_postion(C, position = 'fixed', n_pillars = 2):\n",
    "    \n",
    "    if position == 'fixed':\n",
    "        for i in range(0, n_pillars):\n",
    "            target_pillar = C.addFrame('pillar_target_pos' + str(i+1), 'table')\n",
    "            target_pillar.setShape(ry.ST.box, size=[.065, .065, .105])\n",
    "            target_pillar.setRelativePosition([-.45 - (i / 10) , -.225, .0])\n",
    "            target_pillar.setColor([0,1,0])\n",
    "    \n",
    "    elif position == 'random':\n",
    "        for i in range(0, n_pillars):\n",
    "            C = C.addFrame('pillar_target_pos' + str(i+1), 'table')\n",
    "            target_pillar.setShape(ry.ST.box, size=[.065, .065, .105])\n",
    "            target_pillar.setRelativePosition([np.random.uniform(-0.5, 0.5), np.random.uniform(-0.5, 0.5), .0])\n",
    "            target_pillar.setColor([0,1,0])\n",
    "        return C\n",
    "        "
   ]
  },
  {
   "cell_type": "markdown",
   "metadata": {},
   "source": [
    "### Define Komo problem"
   ]
  },
  {
   "cell_type": "code",
   "execution_count": 8,
   "metadata": {},
   "outputs": [
    {
     "data": {
      "text/plain": [
       "0"
      ]
     },
     "execution_count": 8,
     "metadata": {},
     "output_type": "execute_result"
    }
   ],
   "source": [
    "C = ry.Config()\n",
    "C.addFile(ry.raiPath('scenarios/pandaSingle.g'))\n",
    "C = create_n_boxes(C = C, N = 3, position = 'fixed')\n",
    "goal = create_construction_site(C, position = 'fixed')\n",
    "pillar_goal = create_pillar_target_postion(C, position = 'fixed')\n",
    "C.view()"
   ]
  },
  {
   "cell_type": "code",
   "execution_count": 9,
   "metadata": {},
   "outputs": [],
   "source": [
    "def gripper_to_block(C, bot, block = 'box1', prints = False):\n",
    "    qHome = C.getJointState()\n",
    "\n",
    "    komo = ry.KOMO(C, 1, 1, 0, False)\n",
    "\n",
    "    komo.addObjective(\n",
    "        times=[], \n",
    "        feature=ry.FS.jointState, \n",
    "        frames=[],\n",
    "        type=ry.OT.sos, \n",
    "        scale=[1e-1], \n",
    "        target=qHome\n",
    "    )\n",
    "    komo.addObjective([], ry.FS.jointState, [], ry.OT.sos, [1e-1], qHome)\n",
    "    komo.addObjective([], ry.FS.accumulatedCollisions, [], ry.OT.eq)\n",
    "    komo.addObjective([], ry.FS.jointLimits, [], ry.OT.ineq)\n",
    "    komo.addObjective([], ry.FS.positionDiff, ['l_gripper', block], ry.OT.eq, [1e1])\n",
    "    komo.addObjective([], ry.FS.scalarProductXX, ['l_gripper', block], ry.OT.eq, [1e1], [0])\n",
    "    komo.addObjective([], ry.FS.scalarProductXZ, ['l_gripper', block], ry.OT.eq, [1e1], [0])\n",
    "    komo.addObjective([], ry.FS.distance, ['l_palm', block], ry.OT.ineq, [1e1])\n",
    "    komo.addObjective([1], ry.FS.vectorZ, ['l_gripper'], ry.OT.eq, [1e1], [0, 0 , 1])\n",
    "\n",
    "    # no table collision\n",
    "    komo.addObjective([], ry.FS.distance, ['l_palm', 'table'], ry.OT.ineq, [1e1], [-0.001])\n",
    "\n",
    "    if block == 'box1':\n",
    "        komo.addObjective([], ry.FS.distance, [block, 'box2'], ry.OT.ineq, [1e1], [-0.001] )\n",
    "    \n",
    "    if block == 'box1':\n",
    "        komo.addObjective([], ry.FS.distance, [block, 'box1'], ry.OT.ineq, [1e1], [-0.001])\n",
    "    \n",
    "    if block == 'box3':\n",
    "        komo.addObjective([], ry.FS.distance, [block, 'box1'], ry.OT.ineq, [1e1], [-0.001])\n",
    "        komo.addObjective([], ry.FS.distance, [block, 'box2'], ry.OT.ineq, [1e1], [-0.001])\n",
    "\n",
    "\n",
    "    ret = ry.NLP_Solver(komo.nlp(), verbose=4) .solve()\n",
    "    if prints == True:\n",
    "        print(ret)\n",
    "    \n",
    "    q = komo.getPath()\n",
    "\n",
    "    bot.moveTo(q[-1], 5)\n",
    "    while bot.getTimeToEnd() > 0:\n",
    "        bot.sync(C, .5)"
   ]
  },
  {
   "cell_type": "code",
   "execution_count": 20,
   "metadata": {},
   "outputs": [],
   "source": [
    "def move_gripper_to(bot, add_frame_obj_str = 'target', carry_item = 'box1',orientation = 'vertical', prints=False):\n",
    "    komo = ry.KOMO(C, 1, 1, 1, True)\n",
    "    komo.addControlObjective([], 0, 1e-1)\n",
    "    komo.addObjective([], ry.FS.accumulatedCollisions, [], ry.OT.eq)\n",
    "    komo.addObjective([1], ry.FS.positionDiff, ['l_gripper', add_frame_obj_str], ry.OT.eq, [1e1])\n",
    "\n",
    "    if orientation == 'vertical':\n",
    "        komo.addObjective([1], ry.FS.vectorZ, ['l_gripper'], ry.OT.eq, [1e1], [0, 0 , 1])    \n",
    "    \n",
    "    if orientation == 'horizontal':\n",
    "        komo.addObjective([1], ry.FS.vectorZ, ['l_gripper'], ry.OT.eq, [1e1], [1, 0, 0])\n",
    "        komo.addObjective([1], ry.FS.vectorX, ['l_gripper'], ry.OT.eq, [1e1], [0, 1, 0])     \n",
    "\n",
    "    # no table collision\n",
    "    komo.addObjective([], ry.FS.distance, ['l_palm', 'table'], ry.OT.ineq, [1e1])\n",
    "\n",
    "    if carry_item == 'box1':\n",
    "        komo.addObjective([], ry.FS.distance, [carry_item, 'box2'], ry.OT.ineq, [1e1] )\n",
    "    \n",
    "    if carry_item == 'box1':\n",
    "        komo.addObjective([], ry.FS.distance, [carry_item, 'box1'], ry.OT.ineq, [1e1])\n",
    "    \n",
    "    if carry_item == 'box3':\n",
    "        komo.addObjective([], ry.FS.distance, [carry_item, 'box1'], ry.OT.ineq, [1e1])\n",
    "        komo.addObjective([], ry.FS.distance, [carry_item, 'box2'], ry.OT.ineq, [1e1])\n",
    "\n",
    "    ret = ry.NLP_Solver(komo.nlp(), verbose=4) .solve()\n",
    "    if prints == True:\n",
    "        print(ret)\n",
    "    \n",
    "    q = komo.getPath()\n",
    "    \n",
    "    bot.moveTo(q[-1], 2)\n",
    "    while bot.getTimeToEnd() > 0:\n",
    "        bot.sync(C, .1)"
   ]
  },
  {
   "cell_type": "code",
   "execution_count": 11,
   "metadata": {},
   "outputs": [],
   "source": [
    "def generate_waypoint_guides(C, start='', target='', offset=0, n_waypoints=5, interpolation='linear'):\n",
    "    start_frame = C.getFrame(start)\n",
    "    start_pos = np.array(start_frame.getPosition())\n",
    "    target_frame = C.getFrame(target)\n",
    "    target_pos = np.array(target_frame.getPosition())\n",
    "    target_pos[2] += offset\n",
    "\n",
    "\n",
    "    if interpolation == 'linear':\n",
    "        t_vals = np.linspace(0, 1, n_waypoints)\n",
    "        x_spline = Rbf([0, 1], [start_pos[0], target_pos[0]], function='linear')\n",
    "        y_spline = Rbf([0, 1], [start_pos[1], target_pos[1]], function='linear')\n",
    "        z_spline = Rbf([0, 1], [start_pos[2], target_pos[2]], function='linear')\n",
    "\n",
    "        positions = np.column_stack([x_spline(t_vals), y_spline(t_vals), z_spline(t_vals)])\n",
    "    \n",
    "    elif interpolation == 'cubic':\n",
    "        t_vals = np.linspace(0, 1, n_waypoints)\n",
    "        x_spline = Rbf([0, 1], [start_pos[0], target_pos[0]], function='linear')\n",
    "        y_spline = Rbf([0, 1], [start_pos[1], target_pos[1]], function='linear')\n",
    "        z_spline = Rbf([0, 1], [start_pos[2], target_pos[2]], function='cubic')\n",
    "        \n",
    "        positions = np.column_stack([x_spline(t_vals), y_spline(t_vals), z_spline(t_vals)])\n",
    "\n",
    "\n",
    "    for i, pos in enumerate(positions):\n",
    "        way_name = 'way' + str(i+1)\n",
    "        C.addFrame(way_name).setShape(ry.ST.marker, [.1, .1, .1]).setPosition(pos).setColor([1, .5, 1])\n",
    "\n",
    "    return C\n"
   ]
  },
  {
   "cell_type": "code",
   "execution_count": 12,
   "metadata": {},
   "outputs": [
    {
     "data": {
      "text/plain": [
       "0"
      ]
     },
     "execution_count": 12,
     "metadata": {},
     "output_type": "execute_result"
    }
   ],
   "source": [
    "C = generate_waypoint_guides(C, start = 'box1', target = 'pillar_target_pos2', offset=0.120, n_waypoints=5, interpolation='linear')\n",
    "C.view()"
   ]
  },
  {
   "cell_type": "code",
   "execution_count": 13,
   "metadata": {},
   "outputs": [],
   "source": [
    "bot = ry.BotOp(C, useRealRobot = False)"
   ]
  },
  {
   "cell_type": "markdown",
   "metadata": {},
   "source": [
    "## First block"
   ]
  },
  {
   "cell_type": "code",
   "execution_count": 14,
   "metadata": {},
   "outputs": [
    {
     "name": "stdout",
     "output_type": "stream",
     "text": [
      "====nlp==== method:AugmentedLagrangian bounded: yes\n",
      "==nlp== it:0 evals:0 mu:1 nu:1 muLB:0.1\n",
      "----newton---- initial point f(x):86.2233 alpha:1 beta:1\n",
      "--newton-- it:   1  |Delta|:        0.2  alpha:          1  evals:   2  f(y):    57.8465  ACCEPT\n",
      "--newton-- it:   2  |Delta|:        0.2  alpha:          1  evals:   3  f(y):    28.5785  ACCEPT\n",
      "--newton-- it:   3  |Delta|:        0.2  alpha:          1  evals:   4  f(y):    12.6812  ACCEPT\n",
      "--newton-- it:   4  |Delta|:        0.2  alpha:          1  evals:   5  f(y):    5.50894  ACCEPT\n",
      "--newton-- it:   5  |Delta|:        0.2  alpha:          1  evals:   6  f(y):    1.68571  ACCEPT\n",
      "--newton-- it:   6  |Delta|:        0.2  alpha:          1  evals:   7  f(y):   0.160562  ACCEPT\n",
      "--newton-- it:   7  |Delta|:  0.0689643  alpha:          1  evals:   8  f(y):  0.0514524  ACCEPT\n",
      "--newton-- it:   8  |Delta|:  0.0096098  alpha:          1  evals:   9  f(y):  0.0635165  reject (lineSearch:0)\n",
      "                    (line search)        alpha:        0.5  evals:  10  f(y):  0.0497429  ACCEPT\n",
      "--newton-- stopping: 'absMax(Delta)<options.stopTolerance'\n",
      "==nlp== it:   0  evals:  10  A(x):  0.0497429  f:  0.0296117  g:   0.156689  h:   0.142515  |x-x'|:   0.994556 \tstop:DeltaConverge\n",
      "==nlp== it:   1  evals:  10  A(x):    0.17053  mu:5\n",
      "--newton-- it:   9  |Delta|: 0.00550806  alpha:       0.75  evals:  11  f(y):   0.250941  reject (lineSearch:0)\n",
      "                    (line search)        alpha:      0.375  evals:  12  f(y):   0.168485  ACCEPT\n",
      "--newton-- stopping: 'absMax(Delta)<options.stopTolerance'\n",
      "==nlp== it:   1  evals:  12  A(x):   0.168485  f:  0.0295384  g:   0.151418  h:   0.140118  |x-x'|: 0.00206552 \tstop:DeltaConverge\n",
      "==nlp== StoppingCriterion Delta<0.01\n",
      "----newton---- final f(x):0.168485\n",
      "-- kin_physx.cpp:addJoint:299(0) ADDING JOINT l_panda_joint7-box1 of type rigid with rel [0, 0, 0]\n",
      "====nlp==== method:AugmentedLagrangian bounded: yes\n",
      "==nlp== it:0 evals:0 mu:1 nu:1 muLB:0.1\n",
      "----newton---- initial point f(x):0.0498933 alpha:1 beta:1\n",
      "--newton-- it:   1  |Delta|:   0.014991  alpha:          1  evals:   2  f(y):  0.0250379  ACCEPT\n",
      "--newton-- stopping: 'absMax(Delta)<options.stopTolerance'\n",
      "==nlp== it:   0  evals:   2  A(x):  0.0250379  f:  0.0147042  g:        0.1  h:  0.0283838  |x-x'|:   0.014991 \tstop:DeltaConverge\n",
      "==nlp== it:   1  evals:   2  A(x):  0.0870403  mu:5\n",
      "--newton-- it:   2  |Delta|: 0.00198613  alpha:          1  evals:   3  f(y):   0.164723  reject (lineSearch:0)\n",
      "                    (line search)        alpha:        0.5  evals:   4  f(y):  0.0868843  ACCEPT\n",
      "--newton-- stopping: 'absMax(Delta)<options.stopTolerance'\n",
      "==nlp== it:   1  evals:   4  A(x):  0.0868843  f:  0.0147162  g:        0.1  h:  0.0236989  |x-x'|:0.000993066 \tstop:DeltaConverge\n",
      "==nlp== StoppingCriterion Delta<0.01\n",
      "----newton---- final f(x):0.0868843\n",
      "====nlp==== method:AugmentedLagrangian bounded: yes\n",
      "==nlp== it:0 evals:0 mu:1 nu:1 muLB:0.1\n",
      "----newton---- initial point f(x):4.35367 alpha:1 beta:1\n",
      "--newton-- it:   1  |Delta|:        0.2  alpha:          1  evals:   2  f(y):    1.06732  ACCEPT\n",
      "--newton-- it:   2  |Delta|:   0.165619  alpha:          1  evals:   3  f(y):   0.767555  ACCEPT\n",
      "--newton-- it:   3  |Delta|:  0.0147705  alpha:          1  evals:   4  f(y):  0.0270268  ACCEPT\n",
      "--newton-- stopping: 'absMax(Delta)<options.stopTolerance'\n",
      "==nlp== it:   0  evals:   4  A(x):  0.0270268  f:  0.0169513  g:        0.1  h:  0.0174991  |x-x'|:   0.350848 \tstop:DeltaConverge\n",
      "==nlp== it:   1  evals:   4  A(x):  0.0874802  mu:5\n",
      "--newton-- it:   4  |Delta|: 0.00203796  alpha:          1  evals:   5  f(y):     3.8734  reject (lineSearch:0)\n",
      "                    (line search)        alpha:        0.5  evals:   6  f(y):  0.0873323  ACCEPT\n",
      "--newton-- stopping: 'absMax(Delta)<options.stopTolerance'\n",
      "==nlp== it:   1  evals:   6  A(x):  0.0873323  f:  0.0169663  g:        0.1  h:  0.0114294  |x-x'|: 0.00101898 \tstop:DeltaConverge\n",
      "==nlp== StoppingCriterion Delta<0.01\n",
      "----newton---- final f(x):0.0873323\n",
      "====nlp==== method:AugmentedLagrangian bounded: yes\n",
      "==nlp== it:0 evals:0 mu:1 nu:1 muLB:0.1\n",
      "----newton---- initial point f(x):3.22144 alpha:1 beta:1\n",
      "--newton-- it:   1  |Delta|:        0.2  alpha:          1  evals:   2  f(y):   0.206039  ACCEPT\n",
      "--newton-- it:   2  |Delta|:  0.0566119  alpha:          1  evals:   3  f(y):  0.0399363  ACCEPT\n",
      "--newton-- it:   3  |Delta|: 0.00933675  alpha:          1  evals:   4  f(y):  0.0309297  ACCEPT\n",
      "--newton-- stopping: 'absMax(Delta)<options.stopTolerance'\n",
      "==nlp== it:   0  evals:   4  A(x):  0.0309297  f:  0.0208442  g:        0.1  h:  0.0164813  |x-x'|:   0.210364 \tstop:DeltaConverge\n",
      "==nlp== it:   1  evals:   4  A(x):  0.0914428  mu:5\n",
      "--newton-- it:   4  |Delta|: 0.00436155  alpha:          1  evals:   5  f(y):   0.136653  reject (lineSearch:0)\n",
      "                    (line search)        alpha:        0.5  evals:   6  f(y):  0.0911638  ACCEPT\n",
      "--newton-- stopping: 'absMax(Delta)<options.stopTolerance'\n",
      "==nlp== it:   1  evals:   6  A(x):  0.0911638  f:  0.0208859  g:        0.1  h:  0.0103845  |x-x'|: 0.00218077 \tstop:DeltaConverge\n",
      "==nlp== StoppingCriterion Delta<0.01\n",
      "----newton---- final f(x):0.0911638\n",
      "====nlp==== method:AugmentedLagrangian bounded: yes\n",
      "==nlp== it:0 evals:0 mu:1 nu:1 muLB:0.1\n",
      "----newton---- initial point f(x):3.66633 alpha:1 beta:1\n",
      "--newton-- it:   1  |Delta|:        0.2  alpha:          1  evals:   2  f(y):   0.247977  ACCEPT\n",
      "--newton-- it:   2  |Delta|:   0.122969  alpha:          1  evals:   3  f(y):  0.0714685  ACCEPT\n",
      "--newton-- it:   3  |Delta|:  0.0166418  alpha:          1  evals:   4  f(y):  0.0345861  ACCEPT\n",
      "--newton-- stopping: 'absMax(Delta)<options.stopTolerance'\n",
      "==nlp== it:   0  evals:   4  A(x):  0.0345861  f:  0.0244082  g:        0.1  h:  0.0246593  |x-x'|:   0.251696 \tstop:DeltaConverge\n",
      "==nlp== it:   1  evals:   4  A(x):  0.0956533  mu:5\n",
      "--newton-- it:   4  |Delta|: 0.00621656  alpha:          1  evals:   5  f(y):   0.282959  reject (lineSearch:0)\n",
      "                    (line search)        alpha:        0.5  evals:   6  f(y):  0.0949243  ACCEPT\n",
      "--newton-- stopping: 'absMax(Delta)<options.stopTolerance'\n",
      "==nlp== it:   1  evals:   6  A(x):  0.0949243  f:  0.0244725  g:        0.1  h:  0.0138895  |x-x'|: 0.00310828 \tstop:DeltaConverge\n",
      "==nlp== StoppingCriterion Delta<0.01\n",
      "----newton---- final f(x):0.0949243\n",
      "====nlp==== method:AugmentedLagrangian bounded: yes\n",
      "==nlp== it:0 evals:0 mu:1 nu:1 muLB:0.1\n",
      "----newton---- initial point f(x):4.2323 alpha:1 beta:1\n",
      "--newton-- it:   1  |Delta|:        0.2  alpha:          1  evals:   2  f(y):   0.428389  ACCEPT\n",
      "--newton-- it:   2  |Delta|:   0.171953  alpha:          1  evals:   3  f(y):   0.224875  ACCEPT\n",
      "--newton-- it:   3  |Delta|:  0.0269894  alpha:          1  evals:   4  f(y):  0.0401314  ACCEPT\n",
      "--newton-- stopping: 'absMax(Delta)<options.stopTolerance'\n",
      "==nlp== it:   0  evals:   4  A(x):  0.0401314  f:  0.0299488  g:        0.1  h:  0.0254529  |x-x'|:   0.345401 \tstop:DeltaConverge\n",
      "==nlp== it:   1  evals:   4  A(x):   0.101227  mu:5\n",
      "--newton-- it:   4  |Delta|: 0.00464962  alpha:          1  evals:   5  f(y):    1.04782  reject (lineSearch:0)\n",
      "                    (line search)        alpha:        0.5  evals:   6  f(y):   0.100444  ACCEPT\n",
      "--newton-- stopping: 'absMax(Delta)<options.stopTolerance'\n",
      "==nlp== it:   1  evals:   6  A(x):   0.100444  f:   0.030002  g:        0.1  h:  0.0138615  |x-x'|: 0.00232481 \tstop:DeltaConverge\n",
      "==nlp== StoppingCriterion Delta<0.01\n",
      "----newton---- final f(x):0.100444\n",
      "-- kin_physx.cpp:removeJoint:893(0) REMOVING JOINT 0x3321e70-0x332a400 of type rigid\n"
     ]
    }
   ],
   "source": [
    "gripper_open(C, bot)\n",
    "gripper_to_block(C, bot, block='box1')\n",
    "gripper_close_grasp(bot, target_obj = 'box1', force = 10.0,  widht = 0.045)\n",
    "move_gripper_to(bot, add_frame_obj_str = 'way1')\n",
    "move_gripper_to(bot, add_frame_obj_str = 'way2')\n",
    "move_gripper_to(bot, add_frame_obj_str = 'way3')\n",
    "move_gripper_to(bot, add_frame_obj_str = 'way4')\n",
    "move_gripper_to(bot, add_frame_obj_str = 'way5')\n",
    "gripper_open(C, bot)\n",
    "bot.home(C)"
   ]
  },
  {
   "cell_type": "markdown",
   "metadata": {},
   "source": [
    "### Second Block"
   ]
  },
  {
   "cell_type": "code",
   "execution_count": 15,
   "metadata": {},
   "outputs": [
    {
     "name": "stdout",
     "output_type": "stream",
     "text": [
      "-- WARNING:kin.cpp:addFrame:192(-1) frame already exists! returning existing without modifications!\n",
      "-- WARNING:kin.cpp:addFrame:192(-1) frame already exists! returning existing without modifications!\n",
      "-- WARNING:kin.cpp:addFrame:192(-1) frame already exists! returning existing without modifications!\n",
      "-- WARNING:kin.cpp:addFrame:192(-1) frame already exists! returning existing without modifications!\n",
      "-- WARNING:kin.cpp:addFrame:192(-1) frame already exists! returning existing without modifications!\n",
      "-- bot.cpp:~BotOp:118(0) shutting down BotOp...\n",
      "-- simulation.cpp:~BotThreadedSim:56(0) shutting down SimThread\n",
      "-- simulation.cpp:~Simulation:149(0) shutting down Simulation\n"
     ]
    },
    {
     "data": {
      "text/plain": [
       "0"
      ]
     },
     "execution_count": 15,
     "metadata": {},
     "output_type": "execute_result"
    }
   ],
   "source": [
    "C = generate_waypoint_guides(C, start = 'box2', target = 'pillar_target_pos1', offset=0.120, n_waypoints=5, interpolation='linear')\n",
    "bot = ry.BotOp(C, useRealRobot = False)\n",
    "C.view()"
   ]
  },
  {
   "cell_type": "code",
   "execution_count": 16,
   "metadata": {},
   "outputs": [
    {
     "name": "stdout",
     "output_type": "stream",
     "text": [
      "====nlp==== method:AugmentedLagrangian bounded: yes\n",
      "==nlp== it:0 evals:0 mu:1 nu:1 muLB:0.1\n",
      "----newton---- initial point f(x):81.5848 alpha:1 beta:1\n",
      "--newton-- it:   1  |Delta|:        0.2  alpha:          1  evals:   2  f(y):    54.2295  ACCEPT\n",
      "--newton-- it:   2  |Delta|:        0.2  alpha:          1  evals:   3  f(y):    26.3472  ACCEPT\n",
      "--newton-- it:   3  |Delta|:        0.2  alpha:          1  evals:   4  f(y):    11.2812  ACCEPT\n",
      "--newton-- it:   4  |Delta|:        0.2  alpha:          1  evals:   5  f(y):    4.64237  ACCEPT\n",
      "--newton-- it:   5  |Delta|:        0.2  alpha:          1  evals:   6  f(y):    1.25099  ACCEPT\n",
      "--newton-- it:   6  |Delta|:        0.2  alpha:          1  evals:   7  f(y):  0.0619632  ACCEPT\n",
      "--newton-- it:   7  |Delta|:  0.0428402  alpha:          1  evals:   8  f(y):  0.0388774  ACCEPT\n",
      "--newton-- it:   8  |Delta|: 0.00443406  alpha:          1  evals:   9  f(y):  0.0386624  ACCEPT\n",
      "--newton-- stopping: 'absMax(Delta)<options.stopTolerance'\n",
      "==nlp== it:   0  evals:   9  A(x):  0.0386624  f:  0.0302719  g:  0.0318965  h:   0.151066  |x-x'|:   0.958664 \tstop:DeltaConverge\n",
      "==nlp== it:   1  evals:   9  A(x):  0.0890054  mu:5\n",
      "--newton-- it:   9  |Delta|: 0.00353772  alpha:          1  evals:  10  f(y):  0.0888103  ACCEPT\n",
      "--newton-- stopping: 'absMax(Delta)<options.stopTolerance'\n",
      "==nlp== it:   1  evals:  10  A(x):  0.0888103  f:   0.030298  g:  0.0355649  h:   0.144841  |x-x'|: 0.00353772 \tstop:DeltaConverge\n",
      "==nlp== StoppingCriterion Delta<0.01\n",
      "----newton---- final f(x):0.0888103\n",
      "====nlp==== method:AugmentedLagrangian bounded: yes\n",
      "==nlp== it:0 evals:0 mu:1 nu:1 muLB:0.1\n",
      "----newton---- initial point f(x):0.0491248 alpha:1 beta:1\n",
      "--newton-- it:   1  |Delta|:  0.0122901  alpha:          1  evals:   2  f(y):  0.0302334  ACCEPT\n",
      "--newton-- stopping: 'absMax(Delta)<options.stopTolerance'\n",
      "==nlp== it:   0  evals:   2  A(x):  0.0302334  f:  0.0155168  g:        0.1  h:  0.0893608  |x-x'|:  0.0122901 \tstop:DeltaConverge\n",
      "==nlp== it:   1  evals:   2  A(x):   0.118533  mu:5\n",
      "--newton-- it:   2  |Delta|: 0.00244957  alpha:          1  evals:   3  f(y):   0.206644  reject (lineSearch:0)\n",
      "                    (line search)        alpha:        0.5  evals:   4  f(y):   0.118359  ACCEPT\n",
      "--newton-- stopping: 'absMax(Delta)<options.stopTolerance'\n",
      "==nlp== it:   1  evals:   4  A(x):   0.118359  f:  0.0155254  g:        0.1  h:  0.0851156  |x-x'|: 0.00122478 \tstop:DeltaConverge\n",
      "==nlp== StoppingCriterion Delta<0.01\n",
      "----newton---- final f(x):0.118359\n",
      "====nlp==== method:AugmentedLagrangian bounded: yes\n",
      "==nlp== it:0 evals:0 mu:1 nu:1 muLB:0.1\n",
      "----newton---- initial point f(x):3.36641 alpha:1 beta:1\n",
      "--newton-- it:   1  |Delta|:        0.2  alpha:          1  evals:   2  f(y):    1.18392  ACCEPT\n",
      "--newton-- it:   2  |Delta|:        0.2  alpha:          1  evals:   3  f(y):  0.0943725  ACCEPT\n",
      "--newton-- it:   3  |Delta|:  0.0256148  alpha:          1  evals:   4  f(y):  0.0283045  ACCEPT\n",
      "--newton-- stopping: 'absMax(Delta)<options.stopTolerance'\n",
      "==nlp== it:   0  evals:   4  A(x):  0.0283045  f:  0.0181457  g:        0.1  h:  0.0278296  |x-x'|:   0.425615 \tstop:DeltaConverge\n",
      "==nlp== it:   1  evals:   4  A(x):   0.089257  mu:5\n",
      "--newton-- it:   4  |Delta|: 0.00517245  alpha:          1  evals:   5  f(y):   0.177004  reject (lineSearch:0)\n",
      "                    (line search)        alpha:        0.5  evals:   6  f(y):   0.088814  ACCEPT\n",
      "--newton-- stopping: 'absMax(Delta)<options.stopTolerance'\n",
      "==nlp== it:   1  evals:   6  A(x):   0.088814  f:  0.0181652  g:        0.1  h:   0.017015  |x-x'|: 0.00258622 \tstop:DeltaConverge\n",
      "==nlp== StoppingCriterion Delta<0.01\n",
      "----newton---- final f(x):0.088814\n",
      "====nlp==== method:AugmentedLagrangian bounded: yes\n",
      "==nlp== it:0 evals:0 mu:1 nu:1 muLB:0.1\n",
      "----newton---- initial point f(x):3.72706 alpha:1 beta:1\n",
      "--newton-- it:   1  |Delta|:        0.2  alpha:          1  evals:   2  f(y):   0.827423  ACCEPT\n",
      "--newton-- it:   2  |Delta|:    0.11869  alpha:          1  evals:   3  f(y):  0.0629176  ACCEPT\n",
      "--newton-- it:   3  |Delta|:  0.0245994  alpha:          1  evals:   4  f(y):    0.03341  ACCEPT\n",
      "--newton-- stopping: 'absMax(Delta)<options.stopTolerance'\n",
      "==nlp== it:   0  evals:   4  A(x):    0.03341  f:  0.0233396  g:        0.1  h:  0.0154915  |x-x'|:   0.243695 \tstop:DeltaConverge\n",
      "==nlp== it:   1  evals:   4  A(x):  0.0938319  mu:5\n",
      "--newton-- it:   4  |Delta|: 0.00486286  alpha:          1  evals:   5  f(y):   0.182036  reject (lineSearch:0)\n",
      "                    (line search)        alpha:        0.5  evals:   6  f(y):  0.0937328  ACCEPT\n",
      "--newton-- stopping: 'absMax(Delta)<options.stopTolerance'\n",
      "==nlp== it:   1  evals:   6  A(x):  0.0937328  f:  0.0233307  g:        0.1  h:  0.0111254  |x-x'|: 0.00243143 \tstop:DeltaConverge\n",
      "==nlp== StoppingCriterion Delta<0.01\n",
      "----newton---- final f(x):0.0937328\n",
      "====nlp==== method:AugmentedLagrangian bounded: yes\n",
      "==nlp== it:0 evals:0 mu:1 nu:1 muLB:0.1\n",
      "----newton---- initial point f(x):3.77627 alpha:1 beta:1\n",
      "--newton-- it:   1  |Delta|:        0.2  alpha:          1  evals:   2  f(y):   0.526527  ACCEPT\n",
      "--newton-- it:   2  |Delta|:  0.0934622  alpha:          1  evals:   3  f(y):   0.061117  ACCEPT\n",
      "--newton-- it:   3  |Delta|:  0.0201268  alpha:          1  evals:   4  f(y):  0.0374296  ACCEPT\n",
      "--newton-- stopping: 'absMax(Delta)<options.stopTolerance'\n",
      "==nlp== it:   0  evals:   4  A(x):  0.0374296  f:  0.0267806  g:        0.1  h:  0.0417175  |x-x'|:   0.273437 \tstop:DeltaConverge\n",
      "==nlp== it:   1  evals:   4  A(x):   0.101323  mu:5\n",
      "--newton-- it:   4  |Delta|:  0.0307521  alpha:          1  evals:   5  f(y):   0.185674  reject (lineSearch:0)\n",
      "                    (line search)        alpha:        0.5  evals:   6  f(y):  0.0986372  ACCEPT\n",
      "--newton-- it:   5  |Delta|:  0.0184106  alpha:       0.75  evals:   7  f(y):   0.185738  reject (lineSearch:0)\n",
      "                    (line search)        alpha:      0.375  evals:   8  f(y):  0.0978778  ACCEPT\n",
      "--newton-- it:   6  |Delta|:  0.0128995  alpha:     0.5625  evals:   9  f(y):   0.185719  reject (lineSearch:0)\n",
      "                    (line search)        alpha:    0.28125  evals:  10  f(y):  0.0975865  ACCEPT\n",
      "--newton-- it:   7  |Delta|:  0.0100217  alpha:   0.421875  evals:  11  f(y):   0.185689  reject (lineSearch:0)\n",
      "                    (line search)        alpha:   0.210938  evals:  12  f(y):  0.0974503  ACCEPT\n",
      "--newton-- it:   8  |Delta|: 0.00835448  alpha:   0.316406  evals:  13  f(y):   0.185664  reject (lineSearch:0)\n",
      "                    (line search)        alpha:   0.158203  evals:  14  f(y):  0.0973775  ACCEPT\n",
      "--newton-- stopping: 'absMax(Delta)<options.stopTolerance'\n",
      "==nlp== it:   1  evals:  14  A(x):  0.0973775  f:  0.0269474  g:        0.1  h:   0.010149  |x-x'|:  0.0293437 \tstop:DeltaConverge\n",
      "==nlp== it:   2  evals:  14  A(x):   0.398724  mu:25\n",
      "--newton-- it:   9  |Delta|:  0.0054268  alpha:   0.237305  evals:  15  f(y):   0.852118  reject (lineSearch:0)\n",
      "                    (line search)        alpha:   0.118652  evals:  16  f(y):   0.398632  ACCEPT\n",
      "--newton-- stopping: 'absMax(Delta)<options.stopTolerance'\n",
      "==nlp== it:   2  evals:  16  A(x):   0.398632  f:  0.0269501  g:        0.1  h: 0.00947501  |x-x'|:0.000643903 \tstop:DeltaConverge\n",
      "==nlp== StoppingCriterion Delta<0.01\n",
      "----newton---- final f(x):0.398632\n",
      "====nlp==== method:AugmentedLagrangian bounded: yes\n",
      "==nlp== it:0 evals:0 mu:1 nu:1 muLB:0.1\n",
      "----newton---- initial point f(x):3.29723 alpha:1 beta:1\n",
      "--newton-- it:   1  |Delta|:        0.2  alpha:          1  evals:   2  f(y):   0.269548  ACCEPT\n",
      "--newton-- it:   2  |Delta|:   0.135309  alpha:          1  evals:   3  f(y):  0.0773783  ACCEPT\n",
      "--newton-- it:   3  |Delta|:  0.0356044  alpha:          1  evals:   4  f(y):  0.0402275  ACCEPT\n",
      "--newton-- it:   4  |Delta|: 0.00741676  alpha:          1  evals:   5  f(y):  0.0550852  reject (lineSearch:0)\n",
      "                    (line search)        alpha:        0.5  evals:   6  f(y):  0.0399346  ACCEPT\n",
      "--newton-- stopping: 'absMax(Delta)<options.stopTolerance'\n",
      "==nlp== it:   0  evals:   6  A(x):  0.0399346  f:   0.029558  g:        0.1  h:  0.0373706  |x-x'|:   0.298264 \tstop:DeltaConverge\n",
      "==nlp== it:   1  evals:   6  A(x):   0.102194  mu:5\n",
      "--newton-- it:   5  |Delta|:  0.0104129  alpha:       0.75  evals:   7  f(y):   0.188519  reject (lineSearch:0)\n",
      "                    (line search)        alpha:      0.375  evals:   8  f(y):   0.100908  ACCEPT\n",
      "--newton-- it:   6  |Delta|: 0.00658462  alpha:     0.5625  evals:   9  f(y):    0.18853  reject (lineSearch:0)\n",
      "                    (line search)        alpha:    0.28125  evals:  10  f(y):    0.10048  ACCEPT\n",
      "--newton-- stopping: 'absMax(Delta)<options.stopTolerance'\n",
      "==nlp== it:   1  evals:  10  A(x):    0.10048  f:  0.0296687  g:        0.1  h:  0.0187287  |x-x'|: 0.00575676 \tstop:DeltaConverge\n",
      "==nlp== StoppingCriterion Delta<0.01\n",
      "----newton---- final f(x):0.10048\n"
     ]
    }
   ],
   "source": [
    "gripper_to_block(C, bot, block='box2')\n",
    "gripper_close_grasp(bot, target_obj = 'box1', force = 10.0,  widht = 0.045)\n",
    "move_gripper_to(bot, add_frame_obj_str = 'way1')\n",
    "move_gripper_to(bot, add_frame_obj_str = 'way2')\n",
    "move_gripper_to(bot, add_frame_obj_str = 'way3')\n",
    "move_gripper_to(bot, add_frame_obj_str = 'way4')\n",
    "move_gripper_to(bot, add_frame_obj_str = 'way5')\n",
    "gripper_open(C, bot)\n",
    "bot.home(C)"
   ]
  },
  {
   "cell_type": "markdown",
   "metadata": {},
   "source": [
    "### 3rd Block"
   ]
  },
  {
   "cell_type": "code",
   "execution_count": 21,
   "metadata": {},
   "outputs": [
    {
     "name": "stdout",
     "output_type": "stream",
     "text": [
      "-- WARNING:kin.cpp:addFrame:192(-1) frame already exists! returning existing without modifications!\n"
     ]
    },
    {
     "data": {
      "text/plain": [
       "0"
      ]
     },
     "execution_count": 21,
     "metadata": {},
     "output_type": "execute_result"
    }
   ],
   "source": [
    "box_1 = C.getFrame('box1')\n",
    "box_2 = C.getFrame('box2')\n",
    "\n",
    "box_pos1 = box_1.getPosition()\n",
    "box_pos2 = box_2.getPosition()\n",
    "offset = 0.075\n",
    "middle_between_towers = np.mean([box_pos1, box_pos2], 0) + [0, 0, offset]\n",
    "C.addFrame('block3_target').setShape(ry.ST.marker, [.1, .1, .1]).setPosition(middle_between_towers).setColor([1, .5, 1])\n",
    "C.view()"
   ]
  },
  {
   "cell_type": "code",
   "execution_count": 18,
   "metadata": {},
   "outputs": [
    {
     "name": "stdout",
     "output_type": "stream",
     "text": [
      "-- WARNING:kin.cpp:addFrame:192(-1) frame already exists! returning existing without modifications!"
     ]
    },
    {
     "data": {
      "text/plain": [
       "0"
      ]
     },
     "execution_count": 18,
     "metadata": {},
     "output_type": "execute_result"
    },
    {
     "name": "stdout",
     "output_type": "stream",
     "text": [
      "\n",
      "-- WARNING:kin.cpp:addFrame:192(-1) frame already exists! returning existing without modifications!\n",
      "-- WARNING:kin.cpp:addFrame:192(-1) frame already exists! returning existing without modifications!\n",
      "-- WARNING:kin.cpp:addFrame:192(-1) frame already exists! returning existing without modifications!\n",
      "-- WARNING:kin.cpp:addFrame:192(-1) frame already exists! returning existing without modifications!\n",
      "-- bot.cpp:~BotOp:118(0) shutting down BotOp...\n",
      "-- simulation.cpp:~BotThreadedSim:56(0) shutting down SimThread\n",
      "-- simulation.cpp:~Simulation:149(0) shutting down Simulation\n"
     ]
    }
   ],
   "source": [
    "C = generate_waypoint_guides(C, start = 'box3', target = 'block3_target', offset=0.05, n_waypoints=5, interpolation='linear')\n",
    "bot = ry.BotOp(C, useRealRobot = False)\n",
    "C.view()"
   ]
  },
  {
   "cell_type": "code",
   "execution_count": 22,
   "metadata": {},
   "outputs": [],
   "source": [
    "def rotate_move_gripper_to(bot, add_frame_obj_str = 'target', carry_item = '', offset = .075, prints=False):\n",
    "    komo = ry.KOMO(C, 1, 1, 1, True)\n",
    "    komo.addControlObjective([], 0, 1e-1)\n",
    "    komo.addControlObjective([], 1, 1e0)\n",
    "    komo.addObjective([], ry.FS.accumulatedCollisions, [], ry.OT.eq)\n",
    "    komo.addObjective([1], ry.FS.positionDiff, ['l_gripper', add_frame_obj_str], ry.OT.eq, [1e1])\n",
    "    # horizontal align \n",
    "    komo.addObjective([1], ry.FS.vectorZ, ['l_gripper'], ry.OT.eq, [1e1], [1, 0 , 0])\n",
    "    # rotate align\n",
    "    komo.addObjective([1], ry.FS.vectorX, ['l_gripper'], ry.OT.eq, [1e1], [0, 1 , 0])\n",
    "    \n",
    "    if carry_item == 'box1':\n",
    "        komo.addObjective([], ry.FS.distance, [carry_item, 'box2'], ry.OT.ineq, [1e1], )\n",
    "    \n",
    "    if carry_item == 'box1':\n",
    "        komo.addObjective([], ry.FS.distance, [carry_item, 'box1'], ry.OT.ineq, [1e1])\n",
    "    \n",
    "    if carry_item == 'box3':\n",
    "        komo.addObjective([1], ry.FS.distance, [carry_item, 'box1'], ry.OT.ineq, [1e1], [-.15])\n",
    "        komo.addObjective([1], ry.FS.distance, [carry_item, 'box2'], ry.OT.ineq, [1e1], [-.15])\n",
    "\n",
    "    ret = ry.NLP_Solver(komo.nlp(), verbose=4) .solve()\n",
    "    if prints == True:\n",
    "        print(ret)\n",
    "    \n",
    "    q = komo.getPath()\n",
    "    \n",
    "    bot.moveTo(q[-1])\n",
    "    while bot.getTimeToEnd() > 0:\n",
    "        bot.sync(C, .1)\n"
   ]
  },
  {
   "cell_type": "code",
   "execution_count": 23,
   "metadata": {},
   "outputs": [
    {
     "name": "stdout",
     "output_type": "stream",
     "text": [
      "====nlp==== method:AugmentedLagrangian bounded: yes\n",
      "==nlp== it:0 evals:0 mu:1 nu:1 muLB:0.1\n",
      "----newton---- initial point f(x):79.1418 alpha:1 beta:1\n",
      "--newton-- it:   1  |Delta|:        0.2  alpha:          1  evals:   2  f(y):    51.8192  ACCEPT\n",
      "--newton-- it:   2  |Delta|:        0.2  alpha:          1  evals:   3  f(y):    23.6808  ACCEPT\n",
      "--newton-- it:   3  |Delta|:        0.2  alpha:          1  evals:   4  f(y):    10.6281  ACCEPT\n",
      "--newton-- it:   4  |Delta|:        0.2  alpha:          1  evals:   5  f(y):    4.41748  ACCEPT\n",
      "--newton-- it:   5  |Delta|:        0.2  alpha:          1  evals:   6  f(y):     1.1943  ACCEPT\n",
      "--newton-- it:   6  |Delta|:        0.2  alpha:          1  evals:   7  f(y):  0.0655339  ACCEPT\n",
      "--newton-- it:   7  |Delta|:  0.0420794  alpha:          1  evals:   8  f(y):  0.0423414  ACCEPT\n",
      "--newton-- it:   8  |Delta|: 0.00677272  alpha:          1  evals:   9  f(y):  0.0420227  ACCEPT\n",
      "--newton-- stopping: 'absMax(Delta)<options.stopTolerance'\n",
      "==nlp== it:   0  evals:   9  A(x):  0.0420227  f:  0.0346288  g:  0.0316372  h:   0.143682  |x-x'|:   0.977305 \tstop:DeltaConverge\n",
      "==nlp== it:   1  evals:   9  A(x):  0.0863862  mu:5\n",
      "--newton-- it:   9  |Delta|: 0.00688801  alpha:          1  evals:  10  f(y):  0.0860477  ACCEPT\n",
      "--newton-- stopping: 'absMax(Delta)<options.stopTolerance'\n",
      "==nlp== it:   1  evals:  10  A(x):  0.0860477  f:  0.0345817  g:  0.0354762  h:   0.134877  |x-x'|: 0.00688801 \tstop:DeltaConverge\n",
      "==nlp== StoppingCriterion Delta<0.01\n",
      "----newton---- final f(x):0.0860477\n",
      "-- kin_physx.cpp:addJoint:299(0) ADDING JOINT l_panda_joint7-box3 of type rigid with rel [0, 0, 0]\n",
      "====nlp==== method:AugmentedLagrangian bounded: yes\n",
      "==nlp== it:0 evals:0 mu:1 nu:1 muLB:0.1\n",
      "----newton---- initial point f(x):198.197 alpha:1 beta:1\n",
      "--newton-- it:   1  |Delta|:        0.2  alpha:          1  evals:   2  f(y):    164.125  ACCEPT\n",
      "--newton-- it:   2  |Delta|:        0.2  alpha:          1  evals:   3  f(y):    126.674  ACCEPT\n",
      "--newton-- it:   3  |Delta|:        0.2  alpha:          1  evals:   4  f(y):    83.0755  ACCEPT\n",
      "--newton-- it:   4  |Delta|:        0.2  alpha:          1  evals:   5  f(y):    50.1221  ACCEPT\n",
      "--newton-- it:   5  |Delta|:        0.2  alpha:          1  evals:   6  f(y):    26.0523  ACCEPT\n",
      "--newton-- it:   6  |Delta|:        0.2  alpha:          1  evals:   7  f(y):    10.1779  ACCEPT\n",
      "--newton-- it:   7  |Delta|:   0.192792  alpha:          1  evals:   8  f(y):    4.06719  ACCEPT\n",
      "--newton-- it:   8  |Delta|:  0.0317252  alpha:          1  evals:   9  f(y):    4.03435  ACCEPT\n",
      "--newton-- it:   9  |Delta|:  0.0127453  alpha:          1  evals:  10  f(y):    4.03316  ACCEPT\n",
      "--newton-- stopping: 'absMax(Delta)<options.stopTolerance'\n",
      "==nlp== it:   0  evals:  10  A(x):    4.03316  f:    3.86754  g:          0  h:   0.943109  |x-x'|:    1.11895 \tstop:DeltaConverge\n",
      "==nlp== it:   1  evals:  10  A(x):    5.02692  mu:5\n",
      "--newton-- it:  10  |Delta|:   0.144141  alpha:          1  evals:  11  f(y):    4.29355  ACCEPT\n",
      "--newton-- it:  11  |Delta|:  0.0186467  alpha:          1  evals:  12  f(y):    4.27883  ACCEPT\n",
      "--newton-- it:  12  |Delta|: 0.00555884  alpha:          1  evals:  13  f(y):    4.27842  ACCEPT\n",
      "--newton-- stopping: 'absMax(Delta)<options.stopTolerance'\n",
      "==nlp== it:   1  evals:  13  A(x):    4.27842  f:    4.22023  g:          0  h:   0.141728  |x-x'|:   0.147508 \tstop:DeltaConverge\n",
      "==nlp== it:   2  evals:  13  A(x):    4.41976  mu:25\n",
      "--newton-- it:  13  |Delta|:   0.019997  alpha:          1  evals:  14  f(y):    4.38234  ACCEPT\n",
      "--newton-- it:  14  |Delta|: 0.00228349  alpha:          1  evals:  15  f(y):    4.38228  ACCEPT\n",
      "--newton-- stopping: 'absMax(Delta)<options.stopTolerance'\n",
      "==nlp== it:   2  evals:  15  A(x):    4.38228  f:    4.26355  g:          0  h:  0.0752612  |x-x'|:   0.020085 \tstop:DeltaConverge\n",
      "==nlp== it:   3  evals:  15  A(x):    4.85874  mu:125\n",
      "--newton-- it:  15  |Delta|:0.000757572 \t -- absMax(Delta)<1e-1*o.stopTolerance -- NO UPDATE\n",
      "==nlp== it:   3  evals:  15  A(x):    4.85874  f:    4.26355  g:          0  h:  0.0752612  |x-x'|:          0 \tstop:DeltaConverge\n",
      "==nlp== StoppingCriterion Delta<0.01\n",
      "----newton---- final f(x):4.85874\n",
      "====nlp==== method:AugmentedLagrangian bounded: yes\n",
      "==nlp== it:0 evals:0 mu:1 nu:1 muLB:0.1\n",
      "----newton---- initial point f(x):70.5519 alpha:1 beta:1\n",
      "--newton-- it:   1  |Delta|:        0.2  alpha:          1  evals:   2  f(y):    63.4577  ACCEPT\n",
      "--newton-- it:   2  |Delta|:        0.2  alpha:          1  evals:   3  f(y):     55.746  ACCEPT\n",
      "--newton-- it:   3  |Delta|:        0.2  alpha:          1  evals:   4  f(y):    47.5114  ACCEPT\n",
      "--newton-- it:   4  |Delta|:        0.2  alpha:          1  evals:   5  f(y):    39.0602  ACCEPT\n",
      "--newton-- it:   5  |Delta|:        0.2  alpha:          1  evals:   6  f(y):    30.8263  ACCEPT\n",
      "--newton-- it:   6  |Delta|:        0.2  alpha:          1  evals:   7  f(y):    22.9269  ACCEPT\n",
      "--newton-- it:   7  |Delta|:        0.2  alpha:          1  evals:   8  f(y):    15.6783  ACCEPT\n",
      "--newton-- it:   8  |Delta|:        0.2  alpha:          1  evals:   9  f(y):    11.5199  ACCEPT\n",
      "--newton-- it:   9  |Delta|:        0.2  alpha:          1  evals:  10  f(y):    8.60493  ACCEPT\n",
      "--newton-- it:  10  |Delta|:        0.2  alpha:          1  evals:  11  f(y):    6.35514  ACCEPT\n",
      "--newton-- it:  11  |Delta|:        0.2  alpha:          1  evals:  12  f(y):    4.46877  ACCEPT\n",
      "--newton-- it:  12  |Delta|:        0.2  alpha:          1  evals:  13  f(y):    4.47529  reject (lineSearch:0)\n",
      "                    (line search)        alpha:        0.5  evals:  14  f(y):    3.98202  ACCEPT\n",
      "--newton-- it:  13  |Delta|:        0.2  alpha:       0.75  evals:  15  f(y):    2.67673  ACCEPT\n",
      "--newton-- it:  14  |Delta|:        0.2  alpha:          1  evals:  16  f(y):    1.32626  ACCEPT\n",
      "--newton-- it:  15  |Delta|:        0.2  alpha:          1  evals:  17  f(y):   0.542616  ACCEPT\n",
      "--newton-- it:  16  |Delta|:        0.2  alpha:          1  evals:  18  f(y):   0.218924  ACCEPT\n",
      "--newton-- it:  17  |Delta|:   0.078937  alpha:          1  evals:  19  f(y):   0.212876  ACCEPT\n",
      "--newton-- it:  18  |Delta|:  0.0228397  alpha:          1  evals:  20  f(y):   0.186801  ACCEPT\n",
      "--newton-- stopping: 'absMax(Delta)<options.stopTolerance'\n",
      "==nlp== it:   0  evals:  20  A(x):   0.186801  f:   0.174941  g:        0.1  h:  0.0893663  |x-x'|:     2.1448 \tstop:DeltaConverge\n",
      "==nlp== it:   1  evals:  20  A(x):   0.257962  mu:5\n",
      "--newton-- it:  19  |Delta|:  0.0243125  alpha:          1  evals:  21  f(y):   0.571675  reject (lineSearch:0)\n",
      "                    (line search)        alpha:        0.5  evals:  22  f(y):   0.311143  reject (lineSearch:1)\n",
      "                    (line search)        alpha:       0.25  evals:  23  f(y):   0.356156  reject (lineSearch:2)\n",
      "                    (line search)        alpha:      0.125  evals:  24  f(y):   0.256815  ACCEPT\n",
      "--newton-- it:  20  |Delta|: 0.00918151  alpha:     0.1875  evals:  25  f(y):   0.343542  reject (lineSearch:0)\n",
      "                    (line search)        alpha:    0.09375  evals:  26  f(y):   0.255962  ACCEPT\n",
      "--newton-- stopping: 'absMax(Delta)<options.stopTolerance'\n",
      "==nlp== it:   1  evals:  26  A(x):   0.255962  f:   0.175114  g:        0.1  h:  0.0813293  |x-x'|: 0.00259475 \tstop:DeltaConverge\n",
      "==nlp== StoppingCriterion Delta<0.01\n",
      "----newton---- final f(x):0.255962\n"
     ]
    }
   ],
   "source": [
    "gripper_to_block(C, bot, block='box3')\n",
    "gripper_close_grasp(bot, target_obj = 'box3', force = 10.0,  widht = 0.045)\n",
    "rotate_move_gripper_to(bot, add_frame_obj_str = 'way1')\n",
    "move_gripper_to(bot, add_frame_obj_str = 'way5', orientation = 'horizontal')\n",
    "gripper_open(C, bot)\n",
    "bot.home(C)"
   ]
  },
  {
   "cell_type": "code",
   "execution_count": 25,
   "metadata": {},
   "outputs": [],
   "source": [
    "bot.home(C)"
   ]
  },
  {
   "cell_type": "markdown",
   "metadata": {},
   "source": [
    "### Clear config"
   ]
  },
  {
   "cell_type": "code",
   "execution_count": 87,
   "metadata": {},
   "outputs": [],
   "source": [
    "C.clear()"
   ]
  }
 ],
 "metadata": {
  "kernelspec": {
   "display_name": "Python 3",
   "language": "python",
   "name": "python3"
  },
  "language_info": {
   "codemirror_mode": {
    "name": "ipython",
    "version": 3
   },
   "file_extension": ".py",
   "mimetype": "text/x-python",
   "name": "python",
   "nbconvert_exporter": "python",
   "pygments_lexer": "ipython3",
   "version": "3.8.10"
  }
 },
 "nbformat": 4,
 "nbformat_minor": 2
}
