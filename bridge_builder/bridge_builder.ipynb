{
 "cells": [
  {
   "cell_type": "markdown",
   "metadata": {},
   "source": [
    "### Libaries"
   ]
  },
  {
   "cell_type": "code",
   "execution_count": 2,
   "metadata": {},
   "outputs": [
    {
     "name": "stdout",
     "output_type": "stream",
     "text": [
      "version: 0.1.3 compile time: Dec 15 2023 11:24:49\n"
     ]
    }
   ],
   "source": [
    "import robotic as ry\n",
    "import numpy as np\n",
    "import time\n",
    "from scipy.interpolate import Rbf\n",
    "from scipy.interpolate import CubicSpline\n",
    "print('version:', ry.__version__, ry.compiled())"
   ]
  },
  {
   "cell_type": "markdown",
   "metadata": {},
   "source": [
    "### Initalise configuration"
   ]
  },
  {
   "cell_type": "code",
   "execution_count": 3,
   "metadata": {},
   "outputs": [
    {
     "data": {
      "text/plain": [
       "0"
      ]
     },
     "execution_count": 3,
     "metadata": {},
     "output_type": "execute_result"
    }
   ],
   "source": [
    "C = ry.Config()\n",
    "C.addFile(ry.raiPath('scenarios/pandaSingle.g'))\n",
    "C.view()"
   ]
  },
  {
   "cell_type": "markdown",
   "metadata": {},
   "source": [
    "### Define color map"
   ]
  },
  {
   "cell_type": "code",
   "execution_count": 4,
   "metadata": {},
   "outputs": [],
   "source": [
    "color_map = [[1,0,.5], # pink\n",
    "             [0.5,1,0], # lime green\n",
    "             [.5,1,1], # light turqois\n",
    "             [0.5,0,1], # violet\n",
    "             [1,0,0], # red\n",
    "             [0,1,0], # green\n",
    "             [0,0,1], # blue\n",
    "             [1,.5,0], # orange\n",
    "             [1,1,.5], # lime yellow\n",
    "             [1,.5,1], # light pink                            \n",
    "]"
   ]
  },
  {
   "cell_type": "markdown",
   "metadata": {},
   "source": [
    "### Gripper functions"
   ]
  },
  {
   "cell_type": "code",
   "execution_count": 5,
   "metadata": {},
   "outputs": [],
   "source": [
    "def gripper_open(C, bot, widht = 0.75, speed = 0.2):\n",
    "    bot.gripperMove(ry._left, widht, speed)\n",
    "\n",
    "    while not bot.gripperDone(ry._left):\n",
    "        bot.sync(C, .1)\n",
    "\n",
    "def gripper_close(C, bot, widht = 0.01, speed = 0.2):\n",
    "    bot.gripperMove(ry._left, widht, speed)\n",
    "\n",
    "    while not bot.gripperDone(ry._left):\n",
    "        bot.sync(C, .1)"
   ]
  },
  {
   "cell_type": "markdown",
   "metadata": {},
   "source": [
    "### Create N number of building cuboids"
   ]
  },
  {
   "cell_type": "code",
   "execution_count": 6,
   "metadata": {},
   "outputs": [],
   "source": [
    "def create_n_boxes(C, N, position='fixed'):\n",
    "\n",
    "    for i in range(N):\n",
    "        box_name = 'box{}'.format(i + 1)\n",
    "\n",
    "        if position == 'fixed':\n",
    "            position_val1 = 0.1 * (i - 1)\n",
    "            C.addFrame(box_name) \\\n",
    "                .setPosition([position_val1, 0.35, 0.70]) \\\n",
    "                .setShape(ry.ST.ssBox, size=[0.05, 0.05, 0.10, 0.005]) \\\n",
    "                .setColor(color_map[i % len(color_map)]) \\\n",
    "                .setContact(True) \\\n",
    "                .setMass(1e-2)\n",
    "\n",
    "\n",
    "        elif position == 'random':\n",
    "            C.addFrame(box_name) \\\n",
    "                .setPosition([np.random.uniform(-0.5, 0.5), np.random.uniform(-0.5, 0.5), 0.70]) \\\n",
    "                .setShape(ry.ST.ssBox, size=[0.05, 0.05, 0.10, 0.005]) \\\n",
    "                .setColor(color_map[i % len(color_map)]) \\\n",
    "                .setContact(True) \\\n",
    "                .setMass(1e-2)\n",
    "    \n",
    "    return C"
   ]
  },
  {
   "cell_type": "markdown",
   "metadata": {},
   "source": [
    "### Define construction site"
   ]
  },
  {
   "cell_type": "code",
   "execution_count": 7,
   "metadata": {},
   "outputs": [],
   "source": [
    "def create_construction_site(C, position = 'fixed'):\n",
    "    \n",
    "    if position == 'fixed':\n",
    "        target_location = C.addFrame('construction_site', 'table')\n",
    "        target_location.setShape(ry.ST.box, size = [.275, .275, .1])\n",
    "        target_location.setRelativePosition([-.5, -.225, .0])\n",
    "        target_location.setColor([1., 0.75, 0.])\n",
    "        return target_location\n",
    "    \n",
    "    elif position == 'random':\n",
    "        target_location = C.addFrame('construction_site', 'table')\n",
    "        target_location.setShape(ry.ST.box, size = [.3, .3, .1])\n",
    "        target_location.setRelativePosition([np.random.uniform(-0.5, 0.5), np.random.uniform(-0.5, 0.5), .0])\n",
    "        target_location.setColor([1, 0.75, 0])\n",
    "        return target_location\n",
    "        "
   ]
  },
  {
   "cell_type": "code",
   "execution_count": 32,
   "metadata": {},
   "outputs": [],
   "source": [
    "def create_pillar_target_postion(C, position = 'fixed', n_pillars = 2):\n",
    "    \n",
    "    if position == 'fixed':\n",
    "        for i in range(0, n_pillars):\n",
    "            target_pillar = C.addFrame('pillar_target_pos' + str(i+1), 'table')\n",
    "            target_pillar.setShape(ry.ST.box, size=[.065, .065, .105])\n",
    "            target_pillar.setRelativePosition([-.45 - (i / 10) , -.225, .0])\n",
    "            target_pillar.setColor([0,1,0])\n",
    "    \n",
    "    elif position == 'random':\n",
    "        for i in range(0, n_pillars):\n",
    "            C = C.addFrame('pillar_target_pos' + str(i+1), 'table')\n",
    "            target_pillar.setShape(ry.ST.box, size=[.065, .065, .105])\n",
    "            target_pillar.setRelativePosition([np.random.uniform(-0.5, 0.5), np.random.uniform(-0.5, 0.5), .0])\n",
    "            target_pillar.setColor([0,1,0])\n",
    "        return C\n",
    "        "
   ]
  },
  {
   "cell_type": "markdown",
   "metadata": {},
   "source": [
    "### Define Komo problem"
   ]
  },
  {
   "cell_type": "code",
   "execution_count": 9,
   "metadata": {},
   "outputs": [
    {
     "data": {
      "text/plain": [
       "0"
      ]
     },
     "execution_count": 9,
     "metadata": {},
     "output_type": "execute_result"
    }
   ],
   "source": [
    "C = ry.Config()\n",
    "C.addFile(ry.raiPath('scenarios/pandaSingle.g'))\n",
    "C = create_n_boxes(C = C, N = 3, position = 'fixed')\n",
    "goal = create_construction_site(C, position = 'fixed')\n",
    "pillar_goal = create_pillar_target_postion(C, position = 'fixed')\n",
    "\n",
    "C.view()"
   ]
  },
  {
   "cell_type": "code",
   "execution_count": 10,
   "metadata": {},
   "outputs": [],
   "source": [
    "def gripper_to_block(C, bot, block = 'box1', prints = False):\n",
    "    qHome = C.getJointState()\n",
    "\n",
    "    komo = ry.KOMO(C, 1, 10, 1, False)\n",
    "    komo.addObjective([], ry.FS.jointState, [], ry.OT.sos, [1e-1], qHome)\n",
    "    komo.addObjective([], ry.FS.accumulatedCollisions, [], ry.OT.eq)\n",
    "    komo.addObjective([], ry.FS.jointLimits, [], ry.OT.ineq)\n",
    "    komo.addObjective([1], ry.FS.positionDiff, ['l_gripper', block], ry.OT.eq, [1e1])\n",
    "    komo.addObjective([], ry.FS.scalarProductXX, ['l_gripper', block], ry.OT.eq, [1e1], [0])\n",
    "    komo.addObjective([], ry.FS.scalarProductXZ, ['l_gripper', block], ry.OT.eq, [1e1], [0])\n",
    "    komo.addObjective([], ry.FS.distance, ['l_palm', block], ry.OT.ineq, [1e1])\n",
    "\n",
    "    ret = ry.NLP_Solver(komo.nlp(), verbose=4) .solve()\n",
    "    if prints == True:\n",
    "        print(ret)\n",
    "    \n",
    "    q = komo.getPath()\n",
    "\n",
    "    for t in range(q.shape[0]):\n",
    "        bot.moveTo(q[t])\n",
    "        while bot.getTimeToEnd() > 0:\n",
    "            bot.sync(C, .5)"
   ]
  },
  {
   "cell_type": "code",
   "execution_count": 28,
   "metadata": {},
   "outputs": [],
   "source": [
    "def move_gripper_to(bot, add_frame_obj_str = 'target', carry_item = 'box1', prints=False):\n",
    "    komo = ry.KOMO(C, 4, 1, 1, True)\n",
    "\n",
    "    komo.addObjective([], ry.FS.accumulatedCollisions, [], ry.OT.eq)\n",
    "    komo.addObjective([], ry.FS.jointLimits, [], ry.OT.ineq)\n",
    "    komo.addObjective([], ry.FS.positionDiff, ['l_gripper', add_frame_obj_str], ry.OT.eq, [1e1])\n",
    "\n",
    "    komo.addObjective([], ry.FS.positionDiff, ['l_gripper', carry_item], ry.OT.eq, [1e1])\n",
    "    komo.addObjective([], ry.FS.scalarProductXX, ['l_gripper', carry_item], ry.OT.eq, [1e1], [0])\n",
    "    komo.addObjective([], ry.FS.scalarProductXZ, ['l_gripper', carry_item], ry.OT.eq, [1e1], [0])\n",
    "    komo.addObjective([], ry.FS.distance, ['l_palm', carry_item], ry.OT.ineq, [1e1])\n",
    "\n",
    "    ret = ry.NLP_Solver(komo.nlp(), verbose=4) .solve()\n",
    "    if prints == True:\n",
    "        print(ret)\n",
    "    \n",
    "    q = komo.getPath()\n",
    "    \n",
    "    bot.moveTo(q[-1])\n",
    "    while bot.getTimeToEnd() > 0:\n",
    "        bot.sync(C, .1)"
   ]
  },
  {
   "cell_type": "code",
   "execution_count": 17,
   "metadata": {},
   "outputs": [],
   "source": [
    "def generate_waypoint_guides(C, start='', target='', offset=0, n_waypoints=5, interpolation='linear'):\n",
    "    start_frame = C.getFrame(start)\n",
    "    start_pos = np.array(start_frame.getPosition())\n",
    "    target_frame = C.getFrame(target)\n",
    "    target_pos = np.array(target_frame.getPosition())\n",
    "    target_pos[2] += offset\n",
    "\n",
    "\n",
    "    if interpolation == 'linear':\n",
    "        t_vals = np.linspace(0, 1, n_waypoints)\n",
    "        x_spline = Rbf([0, 1], [start_pos[0], target_pos[0]], function='linear')\n",
    "        y_spline = Rbf([0, 1], [start_pos[1], target_pos[1]], function='linear')\n",
    "        z_spline = Rbf([0, 1], [start_pos[2], target_pos[2]], function='linear')\n",
    "\n",
    "        positions = np.column_stack([x_spline(t_vals), y_spline(t_vals), z_spline(t_vals)])\n",
    "    \n",
    "    elif interpolation == 'cubic':\n",
    "        t_vals = np.linspace(0, 1, n_waypoints)\n",
    "        x_spline = Rbf([0, 1], [start_pos[0], target_pos[0]], function='linear')\n",
    "        y_spline = Rbf([0, 1], [start_pos[1], target_pos[1]], function='linear')\n",
    "        z_spline = Rbf([0, 1], [start_pos[2], target_pos[2]], function='cubic')\n",
    "        \n",
    "        positions = np.column_stack([x_spline(t_vals), y_spline(t_vals), z_spline(t_vals)])\n",
    "\n",
    "\n",
    "    for i, pos in enumerate(positions):\n",
    "        way_name = 'way' + str(i+1)\n",
    "        C.addFrame(way_name).setShape(ry.ST.marker, [.1, .1, .1]).setPosition(pos).setColor([1, .5, 1])\n",
    "\n",
    "    return C\n"
   ]
  },
  {
   "cell_type": "code",
   "execution_count": 13,
   "metadata": {},
   "outputs": [],
   "source": [
    "def move_to_waypoint_guides(bot, carry_item = 'box1', n_waypoints = 5,  prints=False):\n",
    "    \n",
    "    komo = ry.KOMO(C, 1, 10, 1, False)\n",
    "    komo.addObjective([], ry.FS.accumulatedCollisions, [], ry.OT.eq)\n",
    "    komo.addObjective([], ry.FS.jointLimits, [], ry.OT.ineq)\n",
    "    \n",
    "    for i in range(n_waypoints):\n",
    "        komo.addObjective([i+1], ry.FS.positionDiff, ['l_gripper', 'way' + str(i+1)], ry.OT.eq, [1e1])\n",
    "\n",
    "    komo.addControlObjective([], 0, 1e-1)\n",
    "    komo.addControlObjective([], 1, 1e0)\n",
    "    #komo.addObjective([], ry.FS.positionDiff, ['l_gripper', carry_item], ry.OT.eq, [1e1])\n",
    "    #komo.addObjective([], ry.FS.scalarProductXX, ['l_gripper', carry_item], ry.OT.eq, [1e1], [0])\n",
    "    #komo.addObjective([], ry.FS.scalarProductXZ, ['l_gripper', carry_item], ry.OT.eq, [1e1], [0])\n",
    "    #komo.addObjective([], ry.FS.distance, ['l_palm', carry_item], ry.OT.ineq, [1e-4])\n",
    "\n",
    "    ret = ry.NLP_Solver(komo.nlp(), verbose=4) .solve()\n",
    "    if prints == True:\n",
    "        print(ret)\n",
    "    \n",
    "    q = komo.getPath()\n",
    "\n",
    "    for t in range(q.shape[0]):\n",
    "        bot.moveTo(q[t])\n",
    "        while bot.getTimeToEnd() > 0:\n",
    "            bot.sync(C, .1)"
   ]
  },
  {
   "cell_type": "code",
   "execution_count": 14,
   "metadata": {},
   "outputs": [
    {
     "data": {
      "text/plain": [
       "0"
      ]
     },
     "execution_count": 14,
     "metadata": {},
     "output_type": "execute_result"
    }
   ],
   "source": [
    "C = generate_waypoint_guides(C, start = 'box1', target = 'pillar_target_pos2', offset=0.115, n_waypoints=5, interpolation='linear')\n",
    "C.view()"
   ]
  },
  {
   "cell_type": "code",
   "execution_count": 23,
   "metadata": {},
   "outputs": [],
   "source": [
    "bot = ry.BotOp(C, useRealRobot = False)"
   ]
  },
  {
   "cell_type": "markdown",
   "metadata": {},
   "source": [
    "## First block"
   ]
  },
  {
   "cell_type": "code",
   "execution_count": 30,
   "metadata": {},
   "outputs": [],
   "source": [
    "gripper_open(C, bot)\n",
    "gripper_to_block(C, bot, block='box1')\n",
    "gripper_close(C, bot)\n",
    "move_gripper_to(bot, add_frame_obj_str = 'way2')\n",
    "move_gripper_to(bot, add_frame_obj_str = 'way3')\n",
    "move_gripper_to(bot, add_frame_obj_str = 'way4')\n",
    "move_gripper_to(bot, add_frame_obj_str = 'way5')\n",
    "gripper_open(C, bot)\n",
    "\n"
   ]
  },
  {
   "cell_type": "markdown",
   "metadata": {},
   "source": [
    "### Second Block"
   ]
  },
  {
   "cell_type": "code",
   "execution_count": null,
   "metadata": {},
   "outputs": [],
   "source": [
    "C = generate_waypoint_guides(C, start = 'box2', target = 'pillar_target_pos1', offset=0.115, n_waypoints=5, interpolation='linear')\n",
    "C.view()"
   ]
  },
  {
   "cell_type": "code",
   "execution_count": 31,
   "metadata": {},
   "outputs": [
    {
     "name": "stdout",
     "output_type": "stream",
     "text": [
      "====nlp==== method:AugmentedLagrangian bounded: yes\n",
      "==nlp== it:0 evals:0 mu:1 nu:1 muLB:0.1\n",
      "----newton---- initial point f(x):40.246 alpha:1 beta:1\n",
      "--newton-- it:   1  |Delta|:        0.2  alpha:          1  evals:   2  f(y):    28.5651  ACCEPT\n",
      "--newton-- it:   2  |Delta|:        0.2  alpha:          1  evals:   3  f(y):    17.6449  ACCEPT\n",
      "--newton-- it:   3  |Delta|:        0.2  alpha:          1  evals:   4  f(y):    8.19059  ACCEPT\n",
      "--newton-- it:   4  |Delta|:        0.2  alpha:          1  evals:   5  f(y):    1.87223  ACCEPT\n",
      "--newton-- it:   5  |Delta|:        0.2  alpha:          1  evals:   6  f(y):   0.379939  ACCEPT\n",
      "--newton-- it:   6  |Delta|:   0.163349  alpha:          1  evals:   7  f(y):  0.0318098  ACCEPT\n",
      "--newton-- it:   7  |Delta|:  0.0218945  alpha:          1  evals:   8  f(y):  0.0275063  ACCEPT\n",
      "--newton-- stopping: 'absMax(Delta)<options.stopTolerance'\n",
      "==nlp== it:   0  evals:   8  A(x):  0.0275063  f:     0.0212  g:  0.0552421  h:  0.0906049  |x-x'|:   0.891502 \tstop:DeltaConverge\n",
      "==nlp== it:   1  evals:   8  A(x):  0.0653442  mu:5\n",
      "--newton-- it:   8  |Delta|:  0.0111539  alpha:          1  evals:   9  f(y):  0.0639652  ACCEPT\n",
      "--newton-- it:   9  |Delta|:  0.0141151  alpha:          1  evals:  10  f(y):  0.0632297  ACCEPT\n",
      "--newton-- it:  10  |Delta|:  0.0165357  alpha:          1  evals:  11  f(y):  0.0619864  ACCEPT\n",
      "--newton-- it:  11  |Delta|:  0.0197023  alpha:          1  evals:  12  f(y):  0.0603409  ACCEPT\n",
      "--newton-- it:  12  |Delta|:  0.0230408  alpha:          1  evals:  13  f(y):  0.0580381  ACCEPT\n",
      "--newton-- it:  13  |Delta|:  0.0263783  alpha:          1  evals:  14  f(y):   0.054899  ACCEPT\n",
      "--newton-- it:  14  |Delta|:  0.0318016  alpha:          1  evals:  15  f(y):  0.0508017  ACCEPT\n",
      "--newton-- it:  15  |Delta|:  0.0370045  alpha:          1  evals:  16  f(y):  0.0457567  ACCEPT\n",
      "--newton-- it:  16  |Delta|:  0.0400988  alpha:          1  evals:  17  f(y):  0.0400171  ACCEPT\n",
      "--newton-- it:  17  |Delta|:  0.0393316  alpha:          1  evals:  18  f(y):  0.0343203  ACCEPT\n",
      "--newton-- it:  18  |Delta|:  0.0343965  alpha:          1  evals:  19  f(y):  0.0297995  ACCEPT\n",
      "--newton-- it:  19  |Delta|:  0.0269889  alpha:          1  evals:  20  f(y):  0.0270308  ACCEPT\n",
      "--newton-- it:  20  |Delta|:  0.0194183  alpha:          1  evals:  21  f(y):  0.0256498  ACCEPT\n",
      "--newton-- it:  21  |Delta|:  0.0131193  alpha:          1  evals:  22  f(y):  0.0250365  ACCEPT\n",
      "--newton-- it:  22  |Delta|: 0.00846708  alpha:          1  evals:  23  f(y):  0.0247773  ACCEPT\n",
      "--newton-- stopping: 'absMax(Delta)<options.stopTolerance'\n",
      "==nlp== it:   1  evals:  23  A(x):  0.0247773  f:  0.0252034  g:          0  h:  0.0117395  |x-x'|:   0.350553 \tstop:DeltaConverge\n",
      "==nlp== it:   2  evals:  23  A(x):  0.0267043  mu:25\n",
      "--newton-- it:  23  |Delta|: 0.00223104  alpha:          1  evals:  24  f(y):  0.0251168  ACCEPT\n",
      "--newton-- stopping: 'absMax(Delta)<options.stopTolerance'\n",
      "==nlp== it:   2  evals:  24  A(x):  0.0251168  f:  0.0252259  g:          0  h: 0.00118172  |x-x'|: 0.00223104 \tstop:DeltaConverge\n",
      "==nlp== StoppingCriterion Delta<0.01\n",
      "----newton---- final f(x):0.0251168\n"
     ]
    }
   ],
   "source": [
    "gripper_to_block(C, bot, block='box2')\n",
    "#gripper_close(C, bot)\n",
    "#move_gripper_to(bot, add_frame_obj_str = 'way2')\n",
    "#move_gripper_to(bot, add_frame_obj_str = 'way3')\n",
    "#move_gripper_to(bot, add_frame_obj_str = 'way4')\n",
    "#move_gripper_to(bot, add_frame_obj_str = 'way5')\n",
    "#gripper_open(C, bot)\n",
    "\n"
   ]
  },
  {
   "cell_type": "code",
   "execution_count": 21,
   "metadata": {},
   "outputs": [
    {
     "name": "stdout",
     "output_type": "stream",
     "text": [
      "-- WARNING:switch.cpp:conv_times2steps:39(-1) beyond the time!: endTime=3 phases=1\n",
      "[[ 0.15568491  0.28087283  0.26325646 -2.49356872 -0.13284906  2.70456271\n",
      "  -0.38879101]\n",
      " [ 0.15556901  0.27794743  0.26266226 -2.49182003 -0.13200863  2.70020892\n",
      "  -0.38935276]\n",
      " [ 0.1556241   0.27577788  0.26233345 -2.49051971 -0.13128588  2.69645191\n",
      "  -0.38981981]\n",
      " [ 0.15585917  0.27435612  0.26226798 -2.4896466  -0.13067136  2.69324291\n",
      "  -0.39020017]\n",
      " [ 0.15628477  0.27368034  0.26246154 -2.48918265 -0.13015556  2.69054006\n",
      "  -0.39050226]\n",
      " [ 0.15691194  0.27375633  0.26290875 -2.48911269 -0.12973001  2.68830933\n",
      "  -0.39073443]\n",
      " [ 0.15775173  0.27459765  0.26360421 -2.489424   -0.12938748  2.68652432\n",
      "  -0.39090481]\n",
      " [ 0.15881345  0.27622558  0.26454275 -2.49010585 -0.12912206  2.68516653\n",
      "  -0.39102203]\n",
      " [ 0.16010514  0.27867069  0.26572037 -2.49114763 -0.12892905  2.68422752\n",
      "  -0.39109462]\n",
      " [ 0.16163249  0.28197303  0.26713404 -2.49253775 -0.12880468  2.68370861\n",
      "  -0.39112923]]\n",
      "(10, 7)\n",
      "====nlp==== method:AugmentedLagrangian bounded: yes\n",
      "==nlp== it:0 evals:0 mu:1 nu:1 muLB:0.1\n",
      "----newton---- initial point f(x):0.294415 alpha:1 beta:1\n",
      "--newton-- it:   1  |Delta|:  0.0345268  alpha:          1  evals:   2  f(y):   0.147517  ACCEPT\n",
      "--newton-- it:   2  |Delta|: 0.00916311  alpha:          1  evals:   3  f(y):   0.146486  ACCEPT\n",
      "--newton-- stopping: 'absMax(Delta)<options.stopTolerance'\n",
      "==nlp== it:   0  evals:   3  A(x):   0.146486  f:    0.14643  g:          0  h:  0.0115472  |x-x'|:    0.04369 \tstop:DeltaConverge\n",
      "==nlp== it:   1  evals:   3  A(x):   0.146822  mu:5\n",
      "--newton-- it:   3  |Delta|:  0.0053276  alpha:          1  evals:   4  f(y):   0.146242  ACCEPT\n",
      "--newton-- stopping: 'absMax(Delta)<options.stopTolerance'\n",
      "==nlp== it:   1  evals:   4  A(x):   0.146242  f:   0.146226  g:          0  h: 0.00162384  |x-x'|:  0.0053276 \tstop:DeltaConverge\n",
      "==nlp== StoppingCriterion Delta<0.01\n",
      "----newton---- final f(x):0.146242\n"
     ]
    }
   ],
   "source": [
    "move_to_waypoint_guides(bot, carry_item='box1', n_waypoints = 3)"
   ]
  },
  {
   "cell_type": "markdown",
   "metadata": {},
   "source": [
    "### Clear config"
   ]
  },
  {
   "cell_type": "code",
   "execution_count": 87,
   "metadata": {},
   "outputs": [],
   "source": [
    "C.clear()"
   ]
  }
 ],
 "metadata": {
  "kernelspec": {
   "display_name": "Python 3",
   "language": "python",
   "name": "python3"
  },
  "language_info": {
   "codemirror_mode": {
    "name": "ipython",
    "version": 3
   },
   "file_extension": ".py",
   "mimetype": "text/x-python",
   "name": "python",
   "nbconvert_exporter": "python",
   "pygments_lexer": "ipython3",
   "version": "3.10.12"
  }
 },
 "nbformat": 4,
 "nbformat_minor": 2
}
