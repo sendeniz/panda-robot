{
 "cells": [
  {
   "cell_type": "markdown",
   "metadata": {},
   "source": [
    "### Libaries"
   ]
  },
  {
   "cell_type": "code",
   "execution_count": 1,
   "metadata": {},
   "outputs": [
    {
     "name": "stdout",
     "output_type": "stream",
     "text": [
      "version: 0.1.4 compile time: Jan 24 2024 12:29:40\n"
     ]
    }
   ],
   "source": [
    "import robotic as ry\n",
    "import numpy as np\n",
    "import time\n",
    "from scipy.interpolate import Rbf\n",
    "from scipy.interpolate import CubicSpline\n",
    "print('version:', ry.__version__, ry.compiled())"
   ]
  },
  {
   "cell_type": "markdown",
   "metadata": {},
   "source": [
    "### Initalise configuration"
   ]
  },
  {
   "cell_type": "code",
   "execution_count": 2,
   "metadata": {},
   "outputs": [
    {
     "data": {
      "text/plain": [
       "0"
      ]
     },
     "execution_count": 2,
     "metadata": {},
     "output_type": "execute_result"
    }
   ],
   "source": [
    "C = ry.Config()\n",
    "C.addFile(ry.raiPath('scenarios/pandaSingle.g'))\n",
    "C.view()"
   ]
  },
  {
   "cell_type": "markdown",
   "metadata": {},
   "source": [
    "### Define color map"
   ]
  },
  {
   "cell_type": "code",
   "execution_count": 3,
   "metadata": {},
   "outputs": [],
   "source": [
    "color_map = [[1,0,.5], # pink\n",
    "             [0.5,1,0], # lime green\n",
    "             [.5,1,1], # light turqois\n",
    "             [0.5,0,1], # violet\n",
    "             [1,0,0], # red\n",
    "             [0,1,0], # green\n",
    "             [0,0,1], # blue\n",
    "             [1,.5,0], # orange\n",
    "             [1,1,.5], # lime yellow\n",
    "             [1,.5,1], # light pink                            \n",
    "]"
   ]
  },
  {
   "cell_type": "markdown",
   "metadata": {},
   "source": [
    "### Gripper functions"
   ]
  },
  {
   "cell_type": "code",
   "execution_count": 4,
   "metadata": {},
   "outputs": [],
   "source": [
    "def gripper_open(C, bot, widht = 0.75, speed = 0.2):\n",
    "    bot.gripperMove(ry._left, widht, speed)\n",
    "\n",
    "    while not bot.gripperDone(ry._left):\n",
    "        bot.sync(C, .1)\n",
    "\n",
    "def gripper_close(bot, widht = 0.01, speed = 0.2):\n",
    "    bot.gripperMove(ry._left, widht, speed)\n",
    "\n",
    "    while not bot.gripperDone(ry._left):\n",
    "        bot.sync(C, .1)\n",
    "\n",
    "def gripper_close_grasp(bot, target_obj = '', force=5.00, widht = 0.01, speed = 0.2):\n",
    "    bot.gripperCloseGrasp(ry._left, target_obj, force, widht, speed)\n",
    "    while not bot.gripperDone(ry._left):\n",
    "        bot.sync(C, .1)\n",
    "    "
   ]
  },
  {
   "cell_type": "markdown",
   "metadata": {},
   "source": [
    "### Create N number of building cuboids"
   ]
  },
  {
   "cell_type": "code",
   "execution_count": 5,
   "metadata": {},
   "outputs": [],
   "source": [
    "def create_n_boxes(C, N, position='fixed'):\n",
    "\n",
    "    for i in range(N):\n",
    "        box_name = 'box{}'.format(i + 1)\n",
    "\n",
    "        if position == 'fixed':\n",
    "            position_val1 = 0.1 * (i - 1)\n",
    "            C.addFrame(box_name) \\\n",
    "                .setPosition([position_val1, 0.35, 0.70]) \\\n",
    "                .setShape(ry.ST.ssBox, size=[0.05, 0.05, 0.10, 0.005]) \\\n",
    "                .setColor(color_map[i % len(color_map)]) \\\n",
    "                .setContact(True) \\\n",
    "                .setMass(1e-2)\n",
    "\n",
    "\n",
    "        elif position == 'random':\n",
    "            C.addFrame(box_name) \\\n",
    "                .setPosition([np.random.uniform(-0.5, 0.5), np.random.uniform(-0.5, 0.5), 0.70]) \\\n",
    "                .setShape(ry.ST.ssBox, size=[0.05, 0.05, 0.10, 0.005]) \\\n",
    "                .setColor(color_map[i % len(color_map)]) \\\n",
    "                .setContact(True) \\\n",
    "                .setMass(1e-2)\n",
    "    \n",
    "    return C"
   ]
  },
  {
   "cell_type": "markdown",
   "metadata": {},
   "source": [
    "### Define construction site"
   ]
  },
  {
   "cell_type": "code",
   "execution_count": 6,
   "metadata": {},
   "outputs": [],
   "source": [
    "def create_construction_site(C, position = 'fixed'):\n",
    "    \n",
    "    if position == 'fixed':\n",
    "        target_location = C.addFrame('construction_site', 'table')\n",
    "        target_location.setShape(ry.ST.box, size = [.275, .275, .090])\n",
    "        target_location.setRelativePosition([-.5, -.225, .0])\n",
    "        target_location.setColor([1., 0.75, 0.])\n",
    "        return target_location\n",
    "    \n",
    "    elif position == 'random':\n",
    "        target_location = C.addFrame('construction_site', 'table')\n",
    "        target_location.setShape(ry.ST.box, size = [.3, .3, .1])\n",
    "        target_location.setRelativePosition([np.random.uniform(-0.5, 0.5), np.random.uniform(-0.5, 0.5), .0])\n",
    "        target_location.setColor([1, 0.75, 0])\n",
    "        return target_location\n",
    "        "
   ]
  },
  {
   "cell_type": "code",
   "execution_count": 7,
   "metadata": {},
   "outputs": [],
   "source": [
    "def create_pillar_target_postion(C, position = 'fixed', n_pillars = 2):\n",
    "    \n",
    "    if position == 'fixed':\n",
    "        for i in range(0, n_pillars):\n",
    "            target_pillar = C.addFrame('pillar_target_pos' + str(i+1), 'table')\n",
    "            target_pillar.setShape(ry.ST.box, size=[.065, .065, .090])\n",
    "            target_pillar.setRelativePosition([-.45 - (i / 10) , -.225, .0])\n",
    "            target_pillar.setColor([0,1,0])\n",
    "    \n",
    "    elif position == 'random':\n",
    "        for i in range(0, n_pillars):\n",
    "            C = C.addFrame('pillar_target_pos' + str(i+1), 'table')\n",
    "            target_pillar.setShape(ry.ST.box, size=[.065, .065, .090])\n",
    "            target_pillar.setRelativePosition([np.random.uniform(-0.5, 0.5), np.random.uniform(-0.5, 0.5), .0])\n",
    "            target_pillar.setColor([0,1,0])\n",
    "        return C\n",
    "        "
   ]
  },
  {
   "cell_type": "markdown",
   "metadata": {},
   "source": [
    "### Define Komo problem"
   ]
  },
  {
   "cell_type": "code",
   "execution_count": 8,
   "metadata": {},
   "outputs": [
    {
     "data": {
      "text/plain": [
       "0"
      ]
     },
     "execution_count": 8,
     "metadata": {},
     "output_type": "execute_result"
    }
   ],
   "source": [
    "C = ry.Config()\n",
    "C.addFile(ry.raiPath('scenarios/pandaSingle.g'))\n",
    "C = create_n_boxes(C = C, N = 3, position = 'fixed')\n",
    "goal = create_construction_site(C, position = 'fixed')\n",
    "pillar_goal = create_pillar_target_postion(C, position = 'fixed')\n",
    "C.view()"
   ]
  },
  {
   "cell_type": "code",
   "execution_count": 9,
   "metadata": {},
   "outputs": [],
   "source": [
    "def gripper_to_block(C, bot, block = 'box1', prints = False):\n",
    "    qHome = C.getJointState()\n",
    "\n",
    "    komo = ry.KOMO(C, 1, 1, 0, False)\n",
    "\n",
    "    komo.addObjective(\n",
    "        times=[], \n",
    "        feature=ry.FS.jointState, \n",
    "        frames=[],\n",
    "        type=ry.OT.sos, \n",
    "        scale=[1e-1], \n",
    "        target=qHome\n",
    "    )\n",
    "    komo.addObjective([], ry.FS.jointState, [], ry.OT.sos, [1e-1], qHome)\n",
    "    komo.addObjective([], ry.FS.accumulatedCollisions, [], ry.OT.eq)\n",
    "    komo.addObjective([], ry.FS.jointLimits, [], ry.OT.ineq)\n",
    "    komo.addObjective([], ry.FS.positionDiff, ['l_gripper', block], ry.OT.eq, [1e1])\n",
    "    komo.addObjective([], ry.FS.scalarProductXX, ['l_gripper', block], ry.OT.eq, [1e1], [0])\n",
    "    komo.addObjective([], ry.FS.scalarProductXZ, ['l_gripper', block], ry.OT.eq, [1e1], [0])\n",
    "    komo.addObjective([], ry.FS.distance, ['l_palm', block], ry.OT.ineq, [1e1])\n",
    "    komo.addObjective([1], ry.FS.vectorZ, ['l_gripper'], ry.OT.eq, [1e1], [0, 0 , 1])\n",
    "    # no table collision\n",
    "    komo.addObjective([], ry.FS.distance, ['l_palm', 'table'], ry.OT.ineq, [1e1], [-0.001])\n",
    "\n",
    "    ret = ry.NLP_Solver(komo.nlp(), verbose=4) .solve()\n",
    "    if prints == True:\n",
    "        print(ret)\n",
    "    \n",
    "    q = komo.getPath()\n",
    "\n",
    "    bot.moveTo(q[-1], 5)\n",
    "    while bot.getTimeToEnd() > 0:\n",
    "        bot.sync(C, .5)"
   ]
  },
  {
   "cell_type": "code",
   "execution_count": 10,
   "metadata": {},
   "outputs": [],
   "source": [
    "def move_gripper_to(bot, add_frame_obj_str = 'target', carry_item = 'box1', orientation = 'vertical', prints=False):\n",
    "    komo = ry.KOMO(C, 1, 1, 1, True)\n",
    "    komo.addControlObjective([], 0, 0.1e1)\n",
    "    komo.addObjective([], ry.FS.accumulatedCollisions, [], ry.OT.eq)\n",
    "    komo.addObjective([1], ry.FS.positionDiff, ['l_gripper', add_frame_obj_str], ry.OT.eq, [1e1])\n",
    "\n",
    "    if orientation == 'vertical':\n",
    "        komo.addObjective([1], ry.FS.vectorZ, ['l_gripper'], ry.OT.eq, [1e1], [0, 0 , 1])    \n",
    "    \n",
    "    if orientation == 'horizontal':\n",
    "        komo.addObjective([1], ry.FS.vectorZ, ['l_gripper'], ry.OT.eq, [1e1], [1, 0, 0])\n",
    "        komo.addObjective([1], ry.FS.vectorX, ['l_gripper'], ry.OT.eq, [1e1], [0, 1, 0])     \n",
    "\n",
    "    \n",
    "    # no table collision\n",
    "    #komo.addObjective([], ry.FS.distance, ['l_palm', 'table'], ry.OT.ineq, [1e1])\n",
    "    komo.addObjective([], ry.FS.negDistance, ['l_palm', 'table'], ry.OT.ineq, [1e1], [-0.175])\n",
    "    # avoid box collision during transport of box\n",
    "    if carry_item == 'box1':\n",
    "        komo.addObjective([], ry.FS.distance, [carry_item, 'box2'], ry.OT.ineq, [1e1] )\n",
    "    \n",
    "    if carry_item == 'box1':\n",
    "        komo.addObjective([], ry.FS.distance, [carry_item, 'box1'], ry.OT.ineq, [1e1])\n",
    "    \n",
    "    if carry_item == 'box3':\n",
    "        komo.addObjective([], ry.FS.distance, [carry_item, 'box1'], ry.OT.ineq, [1e1])\n",
    "        komo.addObjective([], ry.FS.distance, [carry_item, 'box2'], ry.OT.ineq, [1e1])\n",
    "\n",
    "    ret = ry.NLP_Solver(komo.nlp(), verbose=4) .solve()\n",
    "    if prints == True:\n",
    "        print(ret)\n",
    "    \n",
    "    q = komo.getPath()\n",
    "    \n",
    "    bot.moveTo(q[-1], 2)\n",
    "    while bot.getTimeToEnd() > 0:\n",
    "        bot.sync(C, .1)"
   ]
  },
  {
   "cell_type": "code",
   "execution_count": 11,
   "metadata": {},
   "outputs": [],
   "source": [
    "bot = ry.BotOp(C, useRealRobot = False)"
   ]
  },
  {
   "cell_type": "markdown",
   "metadata": {},
   "source": [
    "## First block"
   ]
  },
  {
   "cell_type": "code",
   "execution_count": 12,
   "metadata": {},
   "outputs": [
    {
     "name": "stdout",
     "output_type": "stream",
     "text": [
      "====nlp==== method:AugmentedLagrangian bounded: yes\n",
      "==nlp== it:0 evals:0 mu:1 nu:1 muLB:0.1\n",
      "----newton---- initial point f(x):86.1968 alpha:1 beta:1\n",
      "--newton-- it:   1  |Delta|:        0.2  alpha:          1  evals:   2  f(y):    57.8344  ACCEPT\n",
      "--newton-- it:   2  |Delta|:        0.2  alpha:          1  evals:   3  f(y):     28.552  ACCEPT\n",
      "--newton-- it:   3  |Delta|:        0.2  alpha:          1  evals:   4  f(y):    12.6691  ACCEPT\n",
      "--newton-- it:   4  |Delta|:        0.2  alpha:          1  evals:   5  f(y):    5.48245  ACCEPT\n",
      "--newton-- it:   5  |Delta|:        0.2  alpha:          1  evals:   6  f(y):    1.67361  ACCEPT\n",
      "--newton-- it:   6  |Delta|:        0.2  alpha:          1  evals:   7  f(y):   0.134069  ACCEPT\n",
      "--newton-- it:   7  |Delta|:  0.0689643  alpha:          1  evals:   8  f(y):  0.0393524  ACCEPT\n",
      "--newton-- it:   8  |Delta|:  0.0096098  alpha:          1  evals:   9  f(y):  0.0370244  ACCEPT\n",
      "--newton-- stopping: 'absMax(Delta)<options.stopTolerance'\n",
      "==nlp== it:   0  evals:   9  A(x):  0.0370244  f:  0.0294107  g:  0.0323899  h:   0.142651  |x-x'|:    0.99341 \tstop:DeltaConverge\n",
      "==nlp== it:   1  evals:   9  A(x):  0.0827064  mu:5\n",
      "--newton-- it:   9  |Delta|: 0.00121474  alpha:          1  evals:  10  f(y):  0.0825738  ACCEPT\n",
      "--newton-- stopping: 'absMax(Delta)<options.stopTolerance'\n",
      "==nlp== it:   1  evals:  10  A(x):  0.0825738  f:   0.029456  g:   0.035451  h:   0.137754  |x-x'|: 0.00121474 \tstop:DeltaConverge\n",
      "==nlp== StoppingCriterion Delta<0.01\n",
      "----newton---- final f(x):0.0825738\n",
      "-- kin_physx.cpp:addJoint:299(0) ADDING JOINT l_panda_joint7-box1 of type rigid with rel [0, 0, 0]\n",
      "====nlp==== method:AugmentedLagrangian bounded: yes\n",
      "==nlp== it:0 evals:0 mu:1 nu:1 muLB:0.1\n",
      "----newton---- initial point f(x):49.4578 alpha:1 beta:1\n",
      "--newton-- it:   1  |Delta|:        0.2  alpha:          1  evals:   2  f(y):    38.2978  ACCEPT\n",
      "--newton-- it:   2  |Delta|:        0.2  alpha:          1  evals:   3  f(y):    28.6574  ACCEPT\n",
      "--newton-- it:   3  |Delta|:        0.2  alpha:          1  evals:   4  f(y):    17.2021  ACCEPT\n",
      "--newton-- it:   4  |Delta|:        0.2  alpha:          1  evals:   5  f(y):    10.0976  ACCEPT\n",
      "--newton-- it:   5  |Delta|:        0.2  alpha:          1  evals:   6  f(y):     5.2802  ACCEPT\n",
      "--newton-- it:   6  |Delta|:   0.166897  alpha:          1  evals:   7  f(y):    5.49727  reject (lineSearch:0)\n",
      "                    (line search)        alpha:        0.5  evals:   8  f(y):    4.91466  ACCEPT\n",
      "--newton-- it:   7  |Delta|:   0.100967  alpha:       0.75  evals:   9  f(y):    5.48518  reject (lineSearch:0)\n",
      "                    (line search)        alpha:      0.375  evals:  10  f(y):     4.8171  ACCEPT\n",
      "--newton-- it:   8  |Delta|:  0.0720468  alpha:     0.5625  evals:  11  f(y):    5.48013  reject (lineSearch:0)\n",
      "                    (line search)        alpha:    0.28125  evals:  12  f(y):    4.77862  ACCEPT\n",
      "--newton-- it:   9  |Delta|:   0.056704  alpha:   0.421875  evals:  13  f(y):    5.47537  reject (lineSearch:0)\n",
      "                    (line search)        alpha:   0.210938  evals:  14  f(y):    4.76008  ACCEPT\n",
      "--newton-- it:  10  |Delta|:  0.0476789  alpha:   0.316406  evals:  15  f(y):    5.47171  reject (lineSearch:0)\n",
      "                    (line search)        alpha:   0.158203  evals:  16  f(y):    4.74994  ACCEPT\n",
      "--newton-- it:  11  |Delta|:  0.0419986  alpha:   0.237305  evals:  17  f(y):    5.46905  reject (lineSearch:0)\n",
      "                    (line search)        alpha:   0.118652  evals:  18  f(y):    4.74389  ACCEPT\n",
      "--newton-- it:  12  |Delta|:  0.0382509  alpha:   0.177979  evals:  19  f(y):    5.46714  reject (lineSearch:0)\n",
      "                    (line search)        alpha:  0.0889893  evals:  20  f(y):    4.74006  ACCEPT\n",
      "--newton-- it:  13  |Delta|:  0.0356934  alpha:   0.133484  evals:  21  f(y):    5.46576  reject (lineSearch:0)\n",
      "                    (line search)        alpha:  0.0667419  evals:  22  f(y):    4.73752  ACCEPT\n",
      "--newton-- it:  14  |Delta|:  0.0339048  alpha:   0.100113  evals:  23  f(y):    5.46477  reject (lineSearch:0)\n",
      "                    (line search)        alpha:  0.0500565  evals:  24  f(y):    4.73579  ACCEPT\n",
      "--newton-- it:  15  |Delta|:  0.0326312  alpha:  0.0750847  evals:  25  f(y):    5.46404  reject (lineSearch:0)\n",
      "                    (line search)        alpha:  0.0375423  evals:  26  f(y):    4.73457  ACCEPT\n",
      "--newton-- it:  16  |Delta|:  0.0317122  alpha:  0.0563135  evals:  27  f(y):    5.46351  reject (lineSearch:0)\n",
      "                    (line search)        alpha:  0.0281568  evals:  28  f(y):    4.73371  ACCEPT\n",
      "--newton-- it:  17  |Delta|:  0.0310426  alpha:  0.0422351  evals:  29  f(y):    5.46312  reject (lineSearch:0)\n",
      "                    (line search)        alpha:  0.0211176  evals:  30  f(y):    4.73308  ACCEPT\n",
      "--newton-- it:  18  |Delta|:  0.0305511  alpha:  0.0316764  evals:  31  f(y):    5.46282  reject (lineSearch:0)\n",
      "                    (line search)        alpha:  0.0158382  evals:  32  f(y):    4.73262  ACCEPT\n",
      "--newton-- it:  19  |Delta|:  0.0301884  alpha:  0.0237573  evals:  33  f(y):    5.46261  reject (lineSearch:0)\n",
      "                    (line search)        alpha:  0.0118786  evals:  34  f(y):    4.73229  ACCEPT\n",
      "--newton-- it:  20  |Delta|:  0.0299196  alpha:  0.0178179  evals:  35  f(y):    5.46245  reject (lineSearch:0)\n",
      "                    (line search)        alpha: 0.00890897  evals:  36  f(y):    4.73204  ACCEPT\n",
      "--newton-- stopping: 'absMax(Delta)<options.stopTolerance'\n",
      "==nlp== it:   0  evals:  36  A(x):    4.73204  f:    2.77219  g:   0.692248  h:    1.72213  |x-x'|:   0.773354 \tstop:DeltaConverge\n",
      "==nlp== it:   1  evals:  36  A(x):    16.4912  mu:5\n",
      "--newton-- it:  21  |Delta|:        0.2  alpha:  0.0133635  evals:  37  f(y):    20.2604  reject (lineSearch:0)\n",
      "                    (line search)        alpha: 0.00668173  evals:  38  f(y):    16.4731  ACCEPT\n",
      "--newton-- it:  22  |Delta|:        0.2  alpha:  0.0100226  evals:  39  f(y):    20.2515  reject (lineSearch:0)\n",
      "                    (line search)        alpha:  0.0050113  evals:  40  f(y):    16.4596  ACCEPT\n",
      "--newton-- it:  23  |Delta|:        0.2  alpha: 0.00751695  evals:  41  f(y):    20.2448  reject (lineSearch:0)\n",
      "                    (line search)        alpha: 0.00375847  evals:  42  f(y):    16.4495  ACCEPT\n",
      "--newton-- it:  24  |Delta|:        0.2  alpha: 0.00563771  evals:  43  f(y):    20.2397  reject (lineSearch:0)\n",
      "                    (line search)        alpha: 0.00281886  evals:  44  f(y):    16.4419  ACCEPT\n",
      "--newton-- it:  25  |Delta|:        0.2  alpha: 0.00422828  evals:  45  f(y):     20.236  reject (lineSearch:0)\n",
      "                    (line search)        alpha: 0.00211414  evals:  46  f(y):    16.4362  ACCEPT\n",
      "--newton-- it:  26  |Delta|:        0.2  alpha: 0.00317121  evals:  47  f(y):    20.2332  reject (lineSearch:0)\n",
      "                    (line search)        alpha: 0.00158561  evals:  48  f(y):     16.432  ACCEPT\n",
      "--newton-- it:  27  |Delta|:        0.2  alpha: 0.00237841  evals:  49  f(y):     20.231  reject (lineSearch:0)\n",
      "                    (line search)        alpha:  0.0011892  evals:  50  f(y):    16.4288  ACCEPT\n",
      "--newton-- it:  28  |Delta|:        0.2  alpha: 0.00178381  evals:  51  f(y):    20.2295  reject (lineSearch:0)\n",
      "                    (line search)        alpha:0.000891903  evals:  52  f(y):    16.4265  ACCEPT\n",
      "--newton-- it:  29  |Delta|:        0.2  alpha: 0.00133786  evals:  53  f(y):    20.2283  reject (lineSearch:0)\n",
      "                    (line search)        alpha:0.000668928  evals:  54  f(y):    16.4247  ACCEPT\n",
      "--newton-- it:  30  |Delta|:        0.2  alpha: 0.00100339  evals:  55  f(y):    20.2274  reject (lineSearch:0)\n",
      "                    (line search)        alpha:0.000501696  evals:  56  f(y):    16.4233  ACCEPT\n",
      "--newton-- it:  31  |Delta|:        0.2  alpha:0.000752543  evals:  57  f(y):    20.2267  reject (lineSearch:0)\n",
      "                    (line search)        alpha:0.000376272  evals:  58  f(y):    16.4223  ACCEPT\n",
      "--newton-- it:  32  |Delta|:        0.2  alpha:0.000564408  evals:  59  f(y):    20.2262  reject (lineSearch:0)\n",
      "                    (line search)        alpha:0.000282204  evals:  60  f(y):    16.4216  ACCEPT\n",
      "--newton-- it:  33  |Delta|:        0.2  alpha:0.000423306  evals:  61  f(y):    20.2258  reject (lineSearch:0)\n",
      "                    (line search)        alpha:0.000211653  evals:  62  f(y):     16.421  ACCEPT\n",
      "--newton-- it:  34  |Delta|:        0.2  alpha:0.000317479  evals:  63  f(y):    20.2256  reject (lineSearch:0)\n",
      "                    (line search)        alpha: 0.00015874  evals:  64  f(y):    16.4206  ACCEPT\n",
      "--newton-- it:  35  |Delta|:        0.2  alpha:0.000238109  evals:  65  f(y):    20.2253  reject (lineSearch:0)\n",
      "                    (line search)        alpha:0.000119055  evals:  66  f(y):    16.4203  ACCEPT\n",
      "--newton-- stopping: 'numTinyXSteps>4'\n",
      "==nlp== it:   1  evals:  66  A(x):    16.4203  f:    2.78386  g:    0.69944  h:    1.70166  |x-x'|: 0.00527395 \tstop:TinyXSteps (bad:1)\n",
      "==nlp== StoppingCriterion Delta<0.01\n",
      "----newton---- final f(x):16.4203\n",
      "-- kin_physx.cpp:removeJoint:893(0) REMOVING JOINT 0x56007f419890-0x56007fef3930 of type rigid\n"
     ]
    }
   ],
   "source": [
    "gripper_open(C, bot)\n",
    "gripper_to_block(C, bot, block='box1')\n",
    "gripper_close_grasp(bot, target_obj = 'box1', force = 5.0,  widht = 0.045)\n",
    "move_gripper_to(bot, add_frame_obj_str = 'pillar_target_pos1', carry_item = 'box1', orientation = 'vertical')\n",
    "gripper_open(C, bot)\n",
    "bot.home(C)"
   ]
  },
  {
   "cell_type": "markdown",
   "metadata": {},
   "source": [
    "### Second Block"
   ]
  },
  {
   "cell_type": "code",
   "execution_count": 13,
   "metadata": {},
   "outputs": [
    {
     "name": "stdout",
     "output_type": "stream",
     "text": [
      "====nlp==== method:AugmentedLagrangian bounded: yes\n",
      "==nlp== it:0 evals:0 mu:1 nu:1 muLB:0.1\n",
      "----newton---- initial point f(x):86.0658 alpha:1 beta:1\n",
      "--newton-- it:   1  |Delta|:        0.2  alpha:          1  evals:   2  f(y):    58.0023  ACCEPT\n",
      "--newton-- it:   2  |Delta|:        0.2  alpha:          1  evals:   3  f(y):     29.432  ACCEPT\n",
      "--newton-- it:   3  |Delta|:        0.2  alpha:          1  evals:   4  f(y):    12.3478  ACCEPT\n",
      "--newton-- it:   4  |Delta|:        0.2  alpha:          1  evals:   5  f(y):    5.19628  ACCEPT\n",
      "--newton-- it:   5  |Delta|:        0.2  alpha:          1  evals:   6  f(y):     1.4994  ACCEPT\n",
      "--newton-- it:   6  |Delta|:        0.2  alpha:          1  evals:   7  f(y):  0.0943683  ACCEPT\n",
      "--newton-- it:   7  |Delta|:  0.0562128  alpha:          1  evals:   8  f(y):  0.0409552  ACCEPT\n",
      "--newton-- it:   8  |Delta|: 0.00859497  alpha:          1  evals:   9  f(y):  0.0389164  ACCEPT\n",
      "--newton-- stopping: 'absMax(Delta)<options.stopTolerance'\n",
      "==nlp== it:   0  evals:   9  A(x):  0.0389164  f:  0.0305334  g:  0.0324357  h:   0.150803  |x-x'|:   0.961906 \tstop:DeltaConverge\n",
      "==nlp== it:   1  evals:   9  A(x):  0.0892144  mu:5\n",
      "--newton-- it:   9  |Delta|: 0.00358931  alpha:          1  evals:  10  f(y):   0.089062  ACCEPT\n",
      "--newton-- stopping: 'absMax(Delta)<options.stopTolerance'\n",
      "==nlp== it:   1  evals:  10  A(x):   0.089062  f:  0.0305482  g:  0.0354561  h:   0.145038  |x-x'|: 0.00358931 \tstop:DeltaConverge\n",
      "==nlp== StoppingCriterion Delta<0.01\n",
      "----newton---- final f(x):0.089062\n",
      "-- kin_physx.cpp:addJoint:299(0) ADDING JOINT l_panda_joint7-box2 of type rigid with rel [0, 0, 0]\n",
      "====nlp==== method:AugmentedLagrangian bounded: yes\n",
      "==nlp== it:0 evals:0 mu:1 nu:1 muLB:0.1\n",
      "----newton---- initial point f(x):64.1605 alpha:1 beta:1\n",
      "--newton-- it:   1  |Delta|:        0.2  alpha:          1  evals:   2  f(y):    51.1532  ACCEPT\n",
      "--newton-- it:   2  |Delta|:        0.2  alpha:          1  evals:   3  f(y):    37.4622  ACCEPT\n",
      "--newton-- it:   3  |Delta|:        0.2  alpha:          1  evals:   4  f(y):    21.8317  ACCEPT\n",
      "--newton-- it:   4  |Delta|:        0.2  alpha:          1  evals:   5  f(y):    12.2121  ACCEPT\n",
      "--newton-- it:   5  |Delta|:        0.2  alpha:          1  evals:   6  f(y):     6.3991  ACCEPT\n",
      "--newton-- it:   6  |Delta|:        0.2  alpha:          1  evals:   7  f(y):    5.13981  ACCEPT\n",
      "--newton-- it:   7  |Delta|:   0.149262  alpha:          1  evals:   8  f(y):    4.78078  ACCEPT\n",
      "--newton-- it:   8  |Delta|:  0.0352325  alpha:          1  evals:   9  f(y):    4.75777  ACCEPT\n",
      "--newton-- it:   9  |Delta|:  0.0115797  alpha:          1  evals:  10  f(y):    4.75666  ACCEPT\n",
      "--newton-- stopping: 'absMax(Delta)<options.stopTolerance'\n",
      "==nlp== it:   0  evals:  10  A(x):    4.75666  f:    2.92889  g:   0.676813  h:    1.58301  |x-x'|:   0.990568 \tstop:DeltaConverge\n",
      "==nlp== it:   1  evals:  10  A(x):    15.7232  mu:5\n",
      "--newton-- it:  10  |Delta|:  0.0826501  alpha:          1  evals:  11  f(y):     14.949  ACCEPT\n",
      "--newton-- it:  11  |Delta|:  0.0237666  alpha:          1  evals:  12  f(y):    14.9632  reject (lineSearch:0)\n",
      "                    (line search)        alpha:        0.5  evals:  13  f(y):    14.8846  ACCEPT\n",
      "--newton-- it:  12  |Delta|: 0.00948593  alpha:       0.75  evals:  14  f(y):    14.9187  reject (lineSearch:0)\n",
      "                    (line search)        alpha:      0.375  evals:  15  f(y):    14.8879  reject (lineSearch:1)\n",
      "                    (line search)        alpha:     0.1875  evals:  16  f(y):    14.8756  ACCEPT\n",
      "--newton-- stopping: 'absMax(Delta)<options.stopTolerance'\n",
      "==nlp== it:   1  evals:  16  A(x):    14.8756  f:    3.27197  g:   0.911376  h:   0.940827  |x-x'|:  0.0773492 \tstop:DeltaConverge\n",
      "==nlp== it:   2  evals:  16  A(x):    64.5802  mu:25\n",
      "--newton-- it:  13  |Delta|:  0.0124731  alpha:    0.28125  evals:  17  f(y):    64.6735  reject (lineSearch:0)\n",
      "                    (line search)        alpha:   0.140625  evals:  18  f(y):    64.6215  reject (lineSearch:1)\n",
      "                    (line search)        alpha:  0.0703125  evals:  19  f(y):    64.5981  reject (lineSearch:2)\n",
      "                    (line search)        alpha:  0.0351562  evals:  20  f(y):     64.587  reject (lineSearch:3)\n",
      "                    (line search)        alpha:  0.0175781  evals:  21  f(y):    64.5816  reject (lineSearch:4)\n",
      "                    (line search)        alpha: 0.00878906  evals:  22  f(y):     64.579  ACCEPT\n",
      "--newton-- it:  14  |Delta|:  0.0102476  alpha:  0.0131836  evals:  23  f(y):    64.5812  reject (lineSearch:0)\n",
      "                    (line search)        alpha:  0.0065918  evals:  24  f(y):    64.5792  reject (lineSearch:1)\n",
      "                    (line search)        alpha:  0.0032959  evals:  25  f(y):    64.5782  ACCEPT\n",
      "--newton-- it:  15  |Delta|:  0.0123938  alpha: 0.00494385  evals:  26  f(y):    64.5795  reject (lineSearch:0)\n",
      "                    (line search)        alpha: 0.00247192  evals:  27  f(y):    64.5788  reject (lineSearch:1)\n",
      "                    (line search)        alpha: 0.00123596  evals:  28  f(y):    64.5784  reject (lineSearch:2)\n",
      "                    (line search)        alpha:0.000617981  evals:  29  f(y):    64.5782  reject (lineSearch:3)\n",
      "                    (line search)        alpha: 0.00030899  evals:  30  f(y):    64.5781  ACCEPT\n",
      "--newton-- it:  16  |Delta|:  0.0123898  alpha:0.000463486  evals:  31  f(y):    64.5783  reject (lineSearch:0)\n",
      "                    (line search)        alpha:0.000231743  evals:  32  f(y):    64.5782  reject (lineSearch:1)\n",
      "                    (line search)        alpha:0.000115871  evals:  33  f(y):    64.5782  reject (lineSearch:2)\n",
      "                    (line search)        alpha:5.79357e-05  evals:  34  f(y):    64.5781  reject (lineSearch:3)\n",
      "                    (line search)        alpha:2.89679e-05  evals:  35  f(y):    64.5781  reject (lineSearch:4)\n",
      "                    (line search)        alpha:1.44839e-05  evals:  36  f(y):    64.5781  ACCEPT\n",
      "--newton-- it:  17  |Delta|:  0.0123896  alpha:2.17259e-05  evals:  37  f(y):    64.5781  reject (lineSearch:0)\n",
      "                    (line search)        alpha:1.08629e-05  evals:  38  f(y):    64.5781  ACCEPT\n",
      "--newton-- it:  18  |Delta|:  0.0123895  alpha:1.62944e-05  evals:  39  f(y):    64.5781  reject (lineSearch:0)\n",
      "                    (line search)        alpha:8.14721e-06  evals:  40  f(y):    64.5781  reject (lineSearch:1)\n",
      "                    (line search)        alpha: 4.0736e-06  evals:  41  f(y):    64.5781  reject (lineSearch:2)\n",
      "                    (line search)        alpha: 2.0368e-06  evals:  42  f(y):    64.5781  reject (lineSearch:3)\n",
      "                    (line search)        alpha: 1.0184e-06  evals:  43  f(y):    64.5781  reject (lineSearch:4)\n",
      "                    (line search)        alpha:5.09201e-07  evals:  44  f(y):    64.5781  reject (lineSearch:5)\n",
      "                    (line search)        alpha:  2.546e-07  evals:  45  f(y):    64.5781  ACCEPT\n",
      "--newton-- stopping: 'numTinyXSteps>4'\n",
      "==nlp== it:   2  evals:  45  A(x):    64.5781  f:    3.27188  g:   0.911335  h:   0.940794  |x-x'|:0.000110799 \tstop:TinyXSteps (bad:1)\n",
      "==nlp== StoppingCriterion Delta<0.01\n",
      "----newton---- final f(x):64.5781\n",
      "-- kin_physx.cpp:removeJoint:893(0) REMOVING JOINT 0x56007f419890-0x56007fef3cf0 of type rigid\n"
     ]
    }
   ],
   "source": [
    "gripper_open(C, bot)\n",
    "gripper_to_block(C, bot, block='box2')\n",
    "gripper_close_grasp(bot, target_obj = 'box2', force = 5.0,  widht = 0.045)\n",
    "move_gripper_to(bot, add_frame_obj_str = 'pillar_target_pos2', carry_item = 'box2', orientation = 'vertical')\n",
    "gripper_open(C, bot)\n",
    "bot.home(C)"
   ]
  },
  {
   "cell_type": "markdown",
   "metadata": {},
   "source": [
    "### 3rd Block"
   ]
  },
  {
   "cell_type": "code",
   "execution_count": 14,
   "metadata": {},
   "outputs": [
    {
     "data": {
      "text/plain": [
       "0"
      ]
     },
     "execution_count": 14,
     "metadata": {},
     "output_type": "execute_result"
    }
   ],
   "source": [
    "box_1 = C.getFrame('box1')\n",
    "box_2 = C.getFrame('box2')\n",
    "box_pos1 = box_1.getPosition()\n",
    "box_pos2 = box_2.getPosition()\n",
    "offset = 0.125\n",
    "middle_between_towers = np.mean([box_pos1, box_pos2], 0) + [0, 0, offset]\n",
    "C.addFrame('block3_target').setShape(ry.ST.marker, [.1, .1, .1]).setPosition(middle_between_towers).setColor([1, .5, 1])\n",
    "C.view()"
   ]
  },
  {
   "cell_type": "code",
   "execution_count": 16,
   "metadata": {},
   "outputs": [
    {
     "name": "stdout",
     "output_type": "stream",
     "text": [
      "====nlp==== method:AugmentedLagrangian bounded: yes\n",
      "==nlp== it:0 evals:0 mu:1 nu:1 muLB:0.1\n",
      "----newton---- initial point f(x):79.6962 alpha:1 beta:1\n",
      "--newton-- it:   1  |Delta|:        0.2  alpha:          1  evals:   2  f(y):    52.2558  ACCEPT\n",
      "--newton-- it:   2  |Delta|:        0.2  alpha:          1  evals:   3  f(y):    23.9408  ACCEPT\n",
      "--newton-- it:   3  |Delta|:        0.2  alpha:          1  evals:   4  f(y):    10.7635  ACCEPT\n",
      "--newton-- it:   4  |Delta|:        0.2  alpha:          1  evals:   5  f(y):    4.51163  ACCEPT\n",
      "--newton-- it:   5  |Delta|:        0.2  alpha:          1  evals:   6  f(y):    1.25254  ACCEPT\n",
      "--newton-- it:   6  |Delta|:        0.2  alpha:          1  evals:   7  f(y):   0.075722  ACCEPT\n",
      "--newton-- it:   7  |Delta|:  0.0468174  alpha:          1  evals:   8  f(y):  0.0448029  ACCEPT\n",
      "--newton-- it:   8  |Delta|: 0.00759525  alpha:          1  evals:   9  f(y):  0.0444039  ACCEPT\n",
      "--newton-- stopping: 'absMax(Delta)<options.stopTolerance'\n",
      "==nlp== it:   0  evals:   9  A(x):  0.0444039  f:  0.0354536  g:  0.0316553  h:   0.158465  |x-x'|:   0.981081 \tstop:DeltaConverge\n",
      "==nlp== it:   1  evals:   9  A(x):  0.0981053  mu:5\n",
      "--newton-- it:   9  |Delta|: 0.00765537  alpha:          1  evals:  10  f(y):  0.0977296  ACCEPT\n",
      "--newton-- stopping: 'absMax(Delta)<options.stopTolerance'\n",
      "==nlp== it:   1  evals:  10  A(x):  0.0977296  f:  0.0353754  g:  0.0355474  h:   0.149882  |x-x'|: 0.00765537 \tstop:DeltaConverge\n",
      "==nlp== StoppingCriterion Delta<0.01\n",
      "----newton---- final f(x):0.0977296\n",
      "-- kin_physx.cpp:addJoint:299(0) ADDING JOINT l_panda_joint7-box3 of type rigid with rel [0, 0, 0]\n",
      "====nlp==== method:AugmentedLagrangian bounded: yes\n",
      "==nlp== it:0 evals:0 mu:1 nu:1 muLB:0.1\n",
      "----newton---- initial point f(x):272.055 alpha:1 beta:1\n",
      "--newton-- it:   1  |Delta|:        0.2  alpha:          1  evals:   2  f(y):    241.008  ACCEPT\n",
      "--newton-- it:   2  |Delta|:        0.2  alpha:          1  evals:   3  f(y):    207.735  ACCEPT\n",
      "--newton-- it:   3  |Delta|:        0.2  alpha:          1  evals:   4  f(y):    185.858  ACCEPT\n",
      "--newton-- it:   4  |Delta|:        0.2  alpha:          1  evals:   5  f(y):    165.483  ACCEPT\n",
      "--newton-- it:   5  |Delta|:        0.2  alpha:          1  evals:   6  f(y):    144.017  ACCEPT\n",
      "--newton-- it:   6  |Delta|:        0.2  alpha:          1  evals:   7  f(y):    120.813  ACCEPT\n",
      "--newton-- it:   7  |Delta|:        0.2  alpha:          1  evals:   8  f(y):    96.5079  ACCEPT\n",
      "--newton-- it:   8  |Delta|:        0.2  alpha:          1  evals:   9  f(y):    72.8699  ACCEPT\n",
      "--newton-- it:   9  |Delta|:        0.2  alpha:          1  evals:  10  f(y):    50.4435  ACCEPT\n",
      "--newton-- it:  10  |Delta|:        0.2  alpha:          1  evals:  11  f(y):    33.8478  ACCEPT\n",
      "--newton-- it:  11  |Delta|:        0.2  alpha:          1  evals:  12  f(y):    22.9117  ACCEPT\n",
      "--newton-- it:  12  |Delta|:        0.2  alpha:          1  evals:  13  f(y):    16.6656  ACCEPT\n",
      "--newton-- it:  13  |Delta|:        0.2  alpha:          1  evals:  14  f(y):    14.1482  ACCEPT\n",
      "--newton-- it:  14  |Delta|:   0.162778  alpha:          1  evals:  15  f(y):    13.7838  ACCEPT\n",
      "--newton-- it:  15  |Delta|:   0.100508  alpha:          1  evals:  16  f(y):    13.6801  ACCEPT\n",
      "--newton-- it:  16  |Delta|:  0.0388572  alpha:          1  evals:  17  f(y):    13.6628  ACCEPT\n",
      "--newton-- it:  17  |Delta|:  0.0144945  alpha:          1  evals:  18  f(y):    13.6599  ACCEPT\n",
      "--newton-- stopping: 'absMax(Delta)<options.stopTolerance'\n",
      "==nlp== it:   0  evals:  18  A(x):    13.6599  f:    11.3161  g:   0.090846  h:    3.16657  |x-x'|:    2.53714 \tstop:DeltaConverge\n",
      "==nlp== it:   1  evals:  18  A(x):    27.7223  mu:5\n",
      "--newton-- it:  18  |Delta|:        0.2  alpha:          1  evals:  19  f(y):    21.4242  ACCEPT\n",
      "--newton-- it:  19  |Delta|:        0.2  alpha:          1  evals:  20  f(y):    45.2907  reject (lineSearch:0)\n",
      "                    (line search)        alpha:        0.5  evals:  21  f(y):    24.1983  reject (lineSearch:1)\n",
      "                    (line search)        alpha:       0.25  evals:  22  f(y):     20.703  ACCEPT\n",
      "--newton-- it:  20  |Delta|:   0.191833  alpha:      0.375  evals:  23  f(y):    19.9645  ACCEPT\n",
      "--newton-- it:  21  |Delta|:   0.119918  alpha:     0.5625  evals:  24  f(y):    19.5043  ACCEPT\n",
      "--newton-- it:  22  |Delta|:  0.0875394  alpha:    0.84375  evals:  25  f(y):    19.2699  ACCEPT\n",
      "--newton-- it:  23  |Delta|:   0.114465  alpha:          1  evals:  26  f(y):    19.1313  ACCEPT\n",
      "--newton-- it:  24  |Delta|:   0.092319  alpha:          1  evals:  27  f(y):     19.049  ACCEPT\n",
      "--newton-- it:  25  |Delta|:  0.0693997  alpha:          1  evals:  28  f(y):    18.9542  ACCEPT\n",
      "--newton-- it:  26  |Delta|:  0.0468592  alpha:          1  evals:  29  f(y):    18.9239  ACCEPT\n",
      "--newton-- it:  27  |Delta|:  0.0343267  alpha:          1  evals:  30  f(y):     18.896  ACCEPT\n",
      "--newton-- it:  28  |Delta|:  0.0166502  alpha:          1  evals:  31  f(y):    18.8974  reject (lineSearch:0)\n",
      "                    (line search)        alpha:        0.5  evals:  32  f(y):    18.8754  ACCEPT\n",
      "--newton-- it:  29  |Delta|:  0.0166716  alpha:       0.75  evals:  33  f(y):    18.8817  reject (lineSearch:0)\n",
      "                    (line search)        alpha:      0.375  evals:  34  f(y):    18.8734  ACCEPT\n",
      "--newton-- it:  30  |Delta|:  0.0110757  alpha:     0.5625  evals:  35  f(y):    18.8797  reject (lineSearch:0)\n",
      "                    (line search)        alpha:    0.28125  evals:  36  f(y):    18.8728  ACCEPT\n",
      "--newton-- it:  31  |Delta|:  0.0132099  alpha:   0.421875  evals:  37  f(y):    18.8724  ACCEPT\n",
      "--newton-- it:  32  |Delta|: 0.00808702  alpha:   0.632812  evals:  38  f(y):    18.8805  reject (lineSearch:0)\n",
      "                    (line search)        alpha:   0.316406  evals:  39  f(y):    18.8716  ACCEPT\n",
      "--newton-- stopping: 'absMax(Delta)<options.stopTolerance'\n",
      "==nlp== it:   1  evals:  39  A(x):    18.8716  f:    15.4786  g:   0.565879  h:   0.777673  |x-x'|:   0.513287 \tstop:DeltaConverge\n",
      "==nlp== it:   2  evals:  39  A(x):    32.6634  mu:25\n",
      "--newton-- it:  33  |Delta|:        0.2  alpha:   0.474609  evals:  40  f(y):    31.0965  ACCEPT\n",
      "--newton-- it:  34  |Delta|:        0.2  alpha:   0.711914  evals:  41  f(y):    29.6799  ACCEPT\n",
      "--newton-- it:  35  |Delta|:   0.152277  alpha:          1  evals:  42  f(y):    28.5144  ACCEPT\n",
      "--newton-- it:  36  |Delta|:  0.0270316  alpha:          1  evals:  43  f(y):    28.0036  ACCEPT\n",
      "--newton-- it:  37  |Delta|: 0.00734146  alpha:          1  evals:  44  f(y):    28.3849  reject (lineSearch:0)\n",
      "                    (line search)        alpha:        0.5  evals:  45  f(y):    28.0068  reject (lineSearch:1)\n",
      "                    (line search)        alpha:       0.25  evals:  46  f(y):    27.9135  ACCEPT\n",
      "--newton-- stopping: 'absMax(Delta)<options.stopTolerance'\n",
      "==nlp== it:   2  evals:  46  A(x):    27.9135  f:    17.9546  g:   0.388602  h:   0.394645  |x-x'|:   0.292451 \tstop:DeltaConverge\n",
      "==nlp== it:   3  evals:  46  A(x):    67.5116  mu:125\n",
      "--newton-- it:  38  |Delta|:  0.0419972  alpha:      0.375  evals:  47  f(y):    70.4495  reject (lineSearch:0)\n",
      "                    (line search)        alpha:     0.1875  evals:  48  f(y):    68.2592  reject (lineSearch:1)\n",
      "                    (line search)        alpha:    0.09375  evals:  49  f(y):    67.6598  reject (lineSearch:2)\n",
      "                    (line search)        alpha:   0.046875  evals:  50  f(y):    67.4843  ACCEPT\n",
      "--newton-- it:  39  |Delta|:  0.0135573  alpha:  0.0703125  evals:  51  f(y):    67.4512  ACCEPT\n",
      "--newton-- it:  40  |Delta|:  0.0126065  alpha:   0.105469  evals:  52  f(y):    67.4572  reject (lineSearch:0)\n",
      "                    (line search)        alpha:  0.0527344  evals:  53  f(y):    67.4522  reject (lineSearch:1)\n",
      "                    (line search)        alpha:  0.0263672  evals:  54  f(y):      67.45  ACCEPT\n",
      "--newton-- it:  41  |Delta|:  0.0128283  alpha:  0.0395508  evals:  55  f(y):    67.4558  reject (lineSearch:0)\n",
      "                    (line search)        alpha:  0.0197754  evals:  56  f(y):    67.4477  ACCEPT\n",
      "--newton-- it:  42  |Delta|:  0.0404737  alpha:  0.0296631  evals:  57  f(y):    67.5341  reject (lineSearch:0)\n",
      "                    (line search)        alpha:  0.0148315  evals:  58  f(y):    67.4841  reject (lineSearch:1)\n",
      "                    (line search)        alpha: 0.00741577  evals:  59  f(y):     67.462  reject (lineSearch:2)\n",
      "                    (line search)        alpha: 0.00370789  evals:  60  f(y):    67.4517  reject (lineSearch:3)\n",
      "                    (line search)        alpha: 0.00185394  evals:  61  f(y):    67.4467  ACCEPT\n",
      "--newton-- it:  43  |Delta|:  0.0119851  alpha: 0.00278091  evals:  62  f(y):    67.4455  ACCEPT\n",
      "--newton-- it:  44  |Delta|:  0.0119519  alpha: 0.00417137  evals:  63  f(y):    67.4438  ACCEPT\n",
      "--newton-- it:  45  |Delta|:  0.0119022  alpha: 0.00625706  evals:  64  f(y):    67.4413  ACCEPT\n",
      "--newton-- it:  46  |Delta|:   0.011828  alpha: 0.00938559  evals:  65  f(y):    67.4375  ACCEPT\n",
      "--newton-- it:  47  |Delta|:  0.0117174  alpha:  0.0140784  evals:  66  f(y):    67.4356  ACCEPT\n",
      "--newton-- it:  48  |Delta|:  0.0121015  alpha:  0.0211176  evals:  67  f(y):    67.4404  reject (lineSearch:0)\n",
      "                    (line search)        alpha:  0.0105588  evals:  68  f(y):    67.4361  reject (lineSearch:1)\n",
      "                    (line search)        alpha: 0.00527939  evals:  69  f(y):    67.4341  ACCEPT\n",
      "--newton-- it:  49  |Delta|:  0.0404443  alpha: 0.00791909  evals:  70  f(y):    67.4541  reject (lineSearch:0)\n",
      "                    (line search)        alpha: 0.00395954  evals:  71  f(y):    67.4431  reject (lineSearch:1)\n",
      "                    (line search)        alpha: 0.00197977  evals:  72  f(y):    67.4377  reject (lineSearch:2)\n",
      "                    (line search)        alpha:0.000989886  evals:  73  f(y):    67.4351  reject (lineSearch:3)\n",
      "                    (line search)        alpha:0.000494943  evals:  74  f(y):    67.4338  ACCEPT\n",
      "--newton-- it:  50  |Delta|:  0.0114797  alpha:0.000742415  evals:  75  f(y):    67.4335  ACCEPT\n",
      "--newton-- it:  51  |Delta|:  0.0114713  alpha: 0.00111362  evals:  76  f(y):    67.4331  ACCEPT\n",
      "--newton-- it:  52  |Delta|:  0.0114585  alpha: 0.00167043  evals:  77  f(y):    67.4324  ACCEPT\n",
      "--newton-- stopping: 'numTinyXSteps>4'\n",
      "==nlp== it:   3  evals:  77  A(x):    67.4324  f:    17.9729  g:   0.384654  h:   0.401146  |x-x'|: 0.00301332 \tstop:TinyXSteps (bad:1)\n",
      "==nlp== StoppingCriterion Delta<0.01\n",
      "----newton---- final f(x):67.4324\n",
      "-- kin_physx.cpp:removeJoint:893(0) REMOVING JOINT 0x56007f419890-0x56007fef40b0 of type rigid\n"
     ]
    }
   ],
   "source": [
    "gripper_to_block(C, bot, block='box3')\n",
    "gripper_close_grasp(bot, target_obj = 'box3', force = 5.0,  widht = 0.045)\n",
    "move_gripper_to(bot, add_frame_obj_str = 'block3_target', carry_item = 'box3', orientation = 'horizontal')\n",
    "gripper_open(C, bot)\n",
    "bot.home(C)"
   ]
  },
  {
   "cell_type": "code",
   "execution_count": 25,
   "metadata": {},
   "outputs": [],
   "source": [
    "bot.home(C)"
   ]
  },
  {
   "cell_type": "markdown",
   "metadata": {},
   "source": [
    "### Clear config"
   ]
  },
  {
   "cell_type": "code",
   "execution_count": 87,
   "metadata": {},
   "outputs": [],
   "source": [
    "C.clear()"
   ]
  }
 ],
 "metadata": {
  "kernelspec": {
   "display_name": "Python 3",
   "language": "python",
   "name": "python3"
  },
  "language_info": {
   "codemirror_mode": {
    "name": "ipython",
    "version": 3
   },
   "file_extension": ".py",
   "mimetype": "text/x-python",
   "name": "python",
   "nbconvert_exporter": "python",
   "pygments_lexer": "ipython3",
   "version": "3.10.12"
  }
 },
 "nbformat": 4,
 "nbformat_minor": 2
}
